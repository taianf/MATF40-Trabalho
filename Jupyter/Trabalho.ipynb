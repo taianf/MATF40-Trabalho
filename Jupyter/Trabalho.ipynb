{
 "cells": [
  {
   "cell_type": "markdown",
   "metadata": {
    "jupyter": {
     "outputs_hidden": false
    },
    "pycharm": {
     "name": "#%%\n"
    },
    "scrolled": true
   },
   "source": [
    "# Análise de partidas de League of Legends\n",
    "Dados obtidos em https://www.kaggle.com/datasets/datasnaek/league-of-legends"
   ]
  },
  {
   "cell_type": "markdown",
   "metadata": {
    "jupyter": {
     "outputs_hidden": false
    },
    "pycharm": {
     "name": "#%%\n"
    },
    "scrolled": true
   },
   "source": [
    "## Análise dos dados\n",
    "\n",
    "Partidas de League of Legends são jogados por 2 times de 5 pessoas.\n",
    "\n",
    "Os personagens jogados são selecionados alternadamente.\n",
    "\n",
    "O time 1, ou time azul, joga na parte inferior do mapa e começa selecionando os personagens.\n",
    "\n",
    "O time 2, ou time vermelho, joga na parte superior do mapa e tem a última seleção."
   ]
  },
  {
   "cell_type": "markdown",
   "metadata": {
    "jupyter": {
     "outputs_hidden": false
    },
    "pycharm": {
     "name": "#%%\n"
    },
    "scrolled": true
   },
   "source": [
    "### Importando libs do spark"
   ]
  },
  {
   "cell_type": "code",
   "execution_count": 1,
   "metadata": {
    "jupyter": {
     "outputs_hidden": false
    },
    "pycharm": {
     "name": "#%%\n"
    },
    "scrolled": false
   },
   "outputs": [],
   "source": [
    "import seaborn as sns\n",
    "from itertools import islice\n",
    "from pyspark.ml import Pipeline\n",
    "from pyspark.ml.classification import RandomForestClassifier\n",
    "from pyspark.ml.evaluation import BinaryClassificationEvaluator\n",
    "from pyspark.ml.feature import StringIndexer\n",
    "from pyspark.ml.feature import VectorAssembler\n",
    "from pyspark.ml.tuning import CrossValidator\n",
    "from pyspark.ml.tuning import ParamGridBuilder\n",
    "from pyspark.sql import SparkSession\n",
    "from pyspark.ml.stat import Correlation\n",
    "from pyspark.sql.functions import avg,col,when,count,lit\n",
    "from pyspark.sql.types import *\n"
   ]
  },
  {
   "cell_type": "markdown",
   "metadata": {
    "jupyter": {
     "outputs_hidden": false
    },
    "pycharm": {
     "name": "#%%\n"
    },
    "scrolled": true
   },
   "source": [
    "### Criando SparkSession local"
   ]
  },
  {
   "cell_type": "code",
   "execution_count": 2,
   "metadata": {
    "jupyter": {
     "outputs_hidden": false
    },
    "pycharm": {
     "name": "#%%\n"
    },
    "scrolled": false
   },
   "outputs": [],
   "source": [
    "spark = SparkSession.builder.master(\"local[*]\").getOrCreate()"
   ]
  },
  {
   "cell_type": "markdown",
   "metadata": {
    "jupyter": {
     "outputs_hidden": false
    },
    "pycharm": {
     "name": "#%%\n"
    },
    "scrolled": true
   },
   "source": [
    "### Carregando o dataset no Spark"
   ]
  },
  {
   "cell_type": "code",
   "execution_count": 3,
   "metadata": {
    "jupyter": {
     "outputs_hidden": false
    },
    "pycharm": {
     "name": "#%%\n"
    },
    "scrolled": false
   },
   "outputs": [],
   "source": [
    "table = spark.read.csv(\"data/games.csv\",\n",
    "                       header=True,\n",
    "                       inferSchema=True).persist()"
   ]
  },
  {
   "cell_type": "markdown",
   "metadata": {
    "jupyter": {
     "outputs_hidden": false
    },
    "pycharm": {
     "name": "#%%\n"
    },
    "scrolled": true
   },
   "source": [
    "### Schema do dataset"
   ]
  },
  {
   "cell_type": "code",
   "execution_count": 4,
   "metadata": {
    "jupyter": {
     "outputs_hidden": false
    },
    "pycharm": {
     "name": "#%%\n"
    },
    "scrolled": false
   },
   "outputs": [
    {
     "name": "stdout",
     "output_type": "stream",
     "text": [
      "root\n",
      " |-- gameId: long (nullable = true)\n",
      " |-- creationTime: long (nullable = true)\n",
      " |-- gameDuration: integer (nullable = true)\n",
      " |-- seasonId: integer (nullable = true)\n",
      " |-- winner: integer (nullable = true)\n",
      " |-- firstBlood: integer (nullable = true)\n",
      " |-- firstTower: integer (nullable = true)\n",
      " |-- firstInhibitor: integer (nullable = true)\n",
      " |-- firstBaron: integer (nullable = true)\n",
      " |-- firstDragon: integer (nullable = true)\n",
      " |-- firstRiftHerald: integer (nullable = true)\n",
      " |-- t1_champ1id: integer (nullable = true)\n",
      " |-- t1_champ1_sum1: integer (nullable = true)\n",
      " |-- t1_champ1_sum2: integer (nullable = true)\n",
      " |-- t1_champ2id: integer (nullable = true)\n",
      " |-- t1_champ2_sum1: integer (nullable = true)\n",
      " |-- t1_champ2_sum2: integer (nullable = true)\n",
      " |-- t1_champ3id: integer (nullable = true)\n",
      " |-- t1_champ3_sum1: integer (nullable = true)\n",
      " |-- t1_champ3_sum2: integer (nullable = true)\n",
      " |-- t1_champ4id: integer (nullable = true)\n",
      " |-- t1_champ4_sum1: integer (nullable = true)\n",
      " |-- t1_champ4_sum2: integer (nullable = true)\n",
      " |-- t1_champ5id: integer (nullable = true)\n",
      " |-- t1_champ5_sum1: integer (nullable = true)\n",
      " |-- t1_champ5_sum2: integer (nullable = true)\n",
      " |-- t1_towerKills: integer (nullable = true)\n",
      " |-- t1_inhibitorKills: integer (nullable = true)\n",
      " |-- t1_baronKills: integer (nullable = true)\n",
      " |-- t1_dragonKills: integer (nullable = true)\n",
      " |-- t1_riftHeraldKills: integer (nullable = true)\n",
      " |-- t1_ban1: integer (nullable = true)\n",
      " |-- t1_ban2: integer (nullable = true)\n",
      " |-- t1_ban3: integer (nullable = true)\n",
      " |-- t1_ban4: integer (nullable = true)\n",
      " |-- t1_ban5: integer (nullable = true)\n",
      " |-- t2_champ1id: integer (nullable = true)\n",
      " |-- t2_champ1_sum1: integer (nullable = true)\n",
      " |-- t2_champ1_sum2: integer (nullable = true)\n",
      " |-- t2_champ2id: integer (nullable = true)\n",
      " |-- t2_champ2_sum1: integer (nullable = true)\n",
      " |-- t2_champ2_sum2: integer (nullable = true)\n",
      " |-- t2_champ3id: integer (nullable = true)\n",
      " |-- t2_champ3_sum1: integer (nullable = true)\n",
      " |-- t2_champ3_sum2: integer (nullable = true)\n",
      " |-- t2_champ4id: integer (nullable = true)\n",
      " |-- t2_champ4_sum1: integer (nullable = true)\n",
      " |-- t2_champ4_sum2: integer (nullable = true)\n",
      " |-- t2_champ5id: integer (nullable = true)\n",
      " |-- t2_champ5_sum1: integer (nullable = true)\n",
      " |-- t2_champ5_sum2: integer (nullable = true)\n",
      " |-- t2_towerKills: integer (nullable = true)\n",
      " |-- t2_inhibitorKills: integer (nullable = true)\n",
      " |-- t2_baronKills: integer (nullable = true)\n",
      " |-- t2_dragonKills: integer (nullable = true)\n",
      " |-- t2_riftHeraldKills: integer (nullable = true)\n",
      " |-- t2_ban1: integer (nullable = true)\n",
      " |-- t2_ban2: integer (nullable = true)\n",
      " |-- t2_ban3: integer (nullable = true)\n",
      " |-- t2_ban4: integer (nullable = true)\n",
      " |-- t2_ban5: integer (nullable = true)\n",
      "\n"
     ]
    }
   ],
   "source": [
    "table.printSchema()"
   ]
  },
  {
   "cell_type": "markdown",
   "metadata": {
    "jupyter": {
     "outputs_hidden": false
    },
    "pycharm": {
     "name": "#%%\n"
    },
    "scrolled": true,
    "tags": []
   },
   "source": [
    "### Alguns dados do dataset"
   ]
  },
  {
   "cell_type": "code",
   "execution_count": 5,
   "metadata": {
    "jupyter": {
     "outputs_hidden": false
    },
    "pycharm": {
     "name": "#%%\n"
    },
    "scrolled": false,
    "tags": []
   },
   "outputs": [
    {
     "name": "stdout",
     "output_type": "stream",
     "text": [
      "+----------+-------------+------------+--------+------+----------+----------+--------------+----------+-----------+---------------+-----------+--------------+--------------+-----------+--------------+--------------+-----------+--------------+--------------+-----------+--------------+--------------+-----------+--------------+--------------+-------------+-----------------+-------------+--------------+------------------+-------+-------+-------+-------+-------+-----------+--------------+--------------+-----------+--------------+--------------+-----------+--------------+--------------+-----------+--------------+--------------+-----------+--------------+--------------+-------------+-----------------+-------------+--------------+------------------+-------+-------+-------+-------+-------+\n",
      "|    gameId| creationTime|gameDuration|seasonId|winner|firstBlood|firstTower|firstInhibitor|firstBaron|firstDragon|firstRiftHerald|t1_champ1id|t1_champ1_sum1|t1_champ1_sum2|t1_champ2id|t1_champ2_sum1|t1_champ2_sum2|t1_champ3id|t1_champ3_sum1|t1_champ3_sum2|t1_champ4id|t1_champ4_sum1|t1_champ4_sum2|t1_champ5id|t1_champ5_sum1|t1_champ5_sum2|t1_towerKills|t1_inhibitorKills|t1_baronKills|t1_dragonKills|t1_riftHeraldKills|t1_ban1|t1_ban2|t1_ban3|t1_ban4|t1_ban5|t2_champ1id|t2_champ1_sum1|t2_champ1_sum2|t2_champ2id|t2_champ2_sum1|t2_champ2_sum2|t2_champ3id|t2_champ3_sum1|t2_champ3_sum2|t2_champ4id|t2_champ4_sum1|t2_champ4_sum2|t2_champ5id|t2_champ5_sum1|t2_champ5_sum2|t2_towerKills|t2_inhibitorKills|t2_baronKills|t2_dragonKills|t2_riftHeraldKills|t2_ban1|t2_ban2|t2_ban3|t2_ban4|t2_ban5|\n",
      "+----------+-------------+------------+--------+------+----------+----------+--------------+----------+-----------+---------------+-----------+--------------+--------------+-----------+--------------+--------------+-----------+--------------+--------------+-----------+--------------+--------------+-----------+--------------+--------------+-------------+-----------------+-------------+--------------+------------------+-------+-------+-------+-------+-------+-----------+--------------+--------------+-----------+--------------+--------------+-----------+--------------+--------------+-----------+--------------+--------------+-----------+--------------+--------------+-------------+-----------------+-------------+--------------+------------------+-------+-------+-------+-------+-------+\n",
      "|3326086514|1504279457970|        1949|       9|     1|         2|         1|             1|         1|          1|              2|          8|            12|             4|        432|             3|             4|         96|             4|             7|         11|            11|             6|        112|             4|            14|           11|                1|            2|             3|                 0|     92|     40|     69|    119|    141|        104|            11|             4|        498|             4|             7|        122|             6|             4|        238|            14|             4|        412|             4|             3|            5|                0|            0|             1|                 1|    114|     67|     43|     16|     51|\n",
      "|3229566029|1497848803862|        1851|       9|     1|         1|         1|             1|         0|          1|              1|        119|             7|             4|         39|            12|             4|         76|             4|             3|         10|             4|            14|         35|             4|            11|           10|                4|            0|             2|                 1|     51|    122|     17|    498|     19|         54|             4|            12|         25|             4|            14|        120|            11|             4|        157|             4|            14|         92|             4|             7|            2|                0|            0|             0|                 0|     11|     67|    238|     51|    420|\n",
      "|3327363504|1504360103310|        1493|       9|     1|         2|         1|             1|         1|          2|              0|         18|             4|             7|        141|            11|             4|        267|             3|             4|         68|             4|            12|         38|            12|             4|            8|                1|            1|             1|                 0|    117|     40|     29|     16|     53|         69|             4|             7|        412|            14|             4|        126|             4|            12|         24|             4|            11|         22|             7|             4|            2|                0|            0|             1|                 0|    157|    238|    121|     57|     28|\n",
      "|3326856598|1504348503996|        1758|       9|     1|         1|         1|             1|         1|          1|              0|         57|             4|            12|         63|             4|            14|         29|             4|             7|         61|             4|             1|         36|            11|             4|            9|                2|            1|             2|                 0|    238|     67|    516|    114|     31|         90|            14|             4|         19|            11|             4|        412|             4|             3|         92|             4|            14|         22|             4|             7|            0|                0|            0|             0|                 0|    164|     18|    141|     40|     51|\n",
      "|3330080762|1504554410899|        2094|       9|     1|         2|         1|             1|         1|          1|              0|         19|             4|            12|         29|            11|             4|         40|             4|             3|        119|             4|             7|        134|             7|             4|            9|                2|            1|             3|                 0|     90|     64|    412|     25|     31|         37|             3|             4|         59|             4|            12|        141|            11|             4|         38|             4|            12|         51|             4|             7|            3|                0|            0|             1|                 0|     86|     11|    201|    122|     18|\n",
      "|3287435705|1501667992132|        2059|       9|     1|         2|         2|             1|         1|          2|              0|         40|             3|             4|        141|            11|             4|         24|            12|             4|         45|             3|             4|         67|             4|             7|            8|                1|            1|             1|                 0|    117|      6|    238|    122|    105|         92|             4|            12|         15|             4|             7|        245|            12|             4|          2|             4|            11|         12|             4|            14|            6|                0|            0|             3|                 0|    119|    134|    154|     63|     31|\n",
      "|3314215542|1503430065724|        1993|       9|     1|         1|         2|             1|         1|          1|              1|         74|             3|             4|         17|             4|            12|        412|             3|             4|         18|             4|             7|         57|             4|            11|           10|                2|            1|             2|                 1|    157|     11|    141|     32|     35|         53|             4|            14|         21|             4|             7|        114|            12|             4|        161|            21|             4|         19|            11|             4|            2|                0|            0|             0|                 0|     75|     42|     31|     40|    429|\n",
      "|3329224025|1504472363684|        1334|       9|     1|         1|         1|             0|         0|          2|              1|        150|            12|             4|        498|             7|             4|         16|             4|             3|         90|             4|            14|         79|            11|             4|            6|                0|            0|             0|                 1|    117|     19|    157|     29|     18|        112|             4|             7|         64|            11|             4|        497|            14|             4|         67|             4|             7|         57|             4|            12|            0|                0|            0|             2|                 0|    157|     38|    122|     40|    238|\n",
      "|3318040883|1503686577549|        1387|       9|     2|         2|         2|             2|         0|          2|              2|        111|            12|             4|         57|             4|            11|         18|             7|             4|        267|             4|             3|        161|             3|             4|            0|                0|            0|             0|                 0|    154|    117|     31|    126|    157|         29|             7|             4|         59|             4|            12|         99|            21|             4|        141|             4|            11|         63|            14|             4|            8|                1|            0|             2|                 1|     28|     51|     53|    157|     40|\n",
      "|3327786881|1504385918871|        2681|       9|     2|         2|         2|             2|         2|          2|              0|        427|             4|             3|         11|            11|             4|         75|            12|             4|        429|             7|             4|        131|             4|            14|           10|                1|            0|             2|                 0|     31|    238|    141|     17|    119|         35|             4|            11|        110|             4|             7|         74|             4|            14|         99|             3|             4|         86|            12|             4|            8|                3|            1|             2|                 0|     64|    141|     84|     67|     53|\n",
      "|3325996400|1504273919929|        1391|       9|     2|         2|         2|             2|         2|          2|              2|         99|             4|            21|        236|             7|             4|        143|             4|             3|         57|             4|            11|        111|            12|             4|            0|                0|            0|             1|                 0|    114|     40|     31|     67|    157|          7|             4|            14|         10|            12|             4|        105|            11|             4|         18|             7|             4|         89|             3|             4|           10|                2|            1|             1|                 1|     19|     74|    122|     59|    412|\n",
      "|3284613292|1501452879926|        1671|       9|     1|         1|         2|             1|         0|          2|              1|         22|             7|             4|          4|             4|             7|         33|            11|             4|        157|            12|             4|         53|             4|             3|           10|                1|            0|             0|                 1|     45|     92|     31|    141|    119|        432|             4|             3|        114|             4|            12|         32|             4|            11|        101|             7|             4|         21|             7|             4|            2|                0|            0|             2|                 0|    103|    154|    412|      6|     64|\n",
      "|3321570535|1503947039120|        2071|       9|     1|         1|         1|             0|         1|          2|              1|         79|             4|            11|        105|             4|            14|         86|             4|            12|         37|             4|             7|         22|             4|             7|            6|                0|            1|             2|                 1|    157|     99|    164|     51|     85|         15|             4|            14|         40|             4|             3|        238|             4|            14|         11|             4|            12|          5|            11|             4|            3|                0|            0|             1|                 0|    143|     64|    254|     53|    122|\n",
      "|3323144943|1504057872709|        1942|       9|     1|         2|         2|             1|         0|          1|              0|        143|             3|             4|          7|             4|            12|        421|            11|             4|         24|            12|             4|         51|             4|             7|            7|                1|            0|             1|                 0|     31|    412|     79|    141|    420|          1|             4|            14|         64|            11|             4|        202|             4|             7|         81|             4|            14|         84|             4|            14|            3|                0|            0|             2|                 0|    154|    498|    117|    141|     19|\n",
      "|3329332855|1504479222082|        2374|       9|     2|         2|         2|             1|         1|          2|              0|         40|             4|             3|        103|             4|            14|        498|             7|             4|         92|            14|             4|        141|            11|             4|            8|                1|            1|             2|                 0|    238|     11|      1|    122|     63|         99|             3|             4|         64|            11|             4|        134|             4|            14|         24|             4|            12|         29|             4|             7|            9|                2|            0|             2|                 0|     31|     67|    202|     53|    119|\n",
      "|3322311228|1503994240897|        1717|       9|     1|         2|         1|             1|         0|          1|              0|         23|            12|             4|         55|            14|             4|         18|             7|             4|         32|            11|             4|         16|             3|             4|            7|                1|            0|             2|                 0|     31|      7|     80|     90|     29|         40|             4|             3|         64|            11|             4|         15|             4|             7|        103|             4|            14|        150|             4|            12|            0|                0|            0|             0|                 0|     53|    117|    141|    122|    157|\n",
      "|3316242660|1503574693354|        2390|       9|     2|         2|         2|             2|         2|          2|              0|         67|             4|             7|         40|             3|             4|        268|             4|            21|          5|            11|             4|         92|             4|            12|            3|                0|            0|             1|                 0|    516|    122|      3|     31|      8|        105|             4|            14|        113|            11|             4|        202|             7|             4|         16|             4|             3|         82|             4|            12|            9|                3|            2|             4|                 0|     18|    134|     53|    420|     29|\n",
      "|3330057565|1504555731094|        1994|       9|     1|         2|         1|             1|         1|          1|              1|        114|             4|            12|         81|            11|             4|         40|             4|             3|        119|             7|             4|        245|             4|            12|           11|                6|            1|             2|                 1|    141|    134|    150|     16|    117|         31|             4|            11|         37|             4|             3|         23|             4|            14|         61|             4|            12|        222|             4|             7|            2|                0|            0|             0|                 0|    141|      1|     11|     29|    122|\n",
      "|3318940474|1503749118008|        1513|       9|     2|         1|         2|             2|         0|          2|              0|        222|             7|             4|         64|             4|            11|         44|             4|             3|        245|             4|            12|         39|            12|             4|            0|                0|            0|             0|                 0|     90|     67|     31|      7|     18|         50|             4|            12|         17|            14|             4|         63|            14|             4|         59|            11|             4|        236|             7|             4|           11|                3|            0|             2|                 0|     31|    141|    119|    122|    238|\n",
      "|3320637674|1503859605802|        1898|       9|     2|         1|         2|             2|         2|          1|              1|        421|             4|            11|         42|             4|             3|         59|            12|             4|         18|             4|             7|        497|             3|             4|            4|                0|            0|             3|                 1|      8|     29|    113|    154|     31|        119|             4|             7|        267|             4|            14|         41|            12|             4|        121|             4|            11|          4|            14|             4|           11|                2|            1|             1|                 0|    117|     54|    113|    157|     40|\n",
      "+----------+-------------+------------+--------+------+----------+----------+--------------+----------+-----------+---------------+-----------+--------------+--------------+-----------+--------------+--------------+-----------+--------------+--------------+-----------+--------------+--------------+-----------+--------------+--------------+-------------+-----------------+-------------+--------------+------------------+-------+-------+-------+-------+-------+-----------+--------------+--------------+-----------+--------------+--------------+-----------+--------------+--------------+-----------+--------------+--------------+-----------+--------------+--------------+-------------+-----------------+-------------+--------------+------------------+-------+-------+-------+-------+-------+\n",
      "only showing top 20 rows\n",
      "\n"
     ]
    }
   ],
   "source": [
    "table.show()"
   ]
  },
  {
   "cell_type": "markdown",
   "metadata": {
    "jupyter": {
     "outputs_hidden": false
    },
    "pycharm": {
     "name": "#%%\n"
    },
    "scrolled": true,
    "tags": []
   },
   "source": [
    "### Dados faltantes"
   ]
  },
  {
   "cell_type": "code",
   "execution_count": 6,
   "metadata": {
    "scrolled": false
   },
   "outputs": [
    {
     "name": "stdout",
     "output_type": "stream",
     "text": [
      "+------+------------+------------+--------+------+----------+----------+--------------+----------+-----------+---------------+-----------+--------------+--------------+-----------+--------------+--------------+-----------+--------------+--------------+-----------+--------------+--------------+-----------+--------------+--------------+-------------+-----------------+-------------+--------------+------------------+-------+-------+-------+-------+-------+-----------+--------------+--------------+-----------+--------------+--------------+-----------+--------------+--------------+-----------+--------------+--------------+-----------+--------------+--------------+-------------+-----------------+-------------+--------------+------------------+-------+-------+-------+-------+-------+\n",
      "|gameId|creationTime|gameDuration|seasonId|winner|firstBlood|firstTower|firstInhibitor|firstBaron|firstDragon|firstRiftHerald|t1_champ1id|t1_champ1_sum1|t1_champ1_sum2|t1_champ2id|t1_champ2_sum1|t1_champ2_sum2|t1_champ3id|t1_champ3_sum1|t1_champ3_sum2|t1_champ4id|t1_champ4_sum1|t1_champ4_sum2|t1_champ5id|t1_champ5_sum1|t1_champ5_sum2|t1_towerKills|t1_inhibitorKills|t1_baronKills|t1_dragonKills|t1_riftHeraldKills|t1_ban1|t1_ban2|t1_ban3|t1_ban4|t1_ban5|t2_champ1id|t2_champ1_sum1|t2_champ1_sum2|t2_champ2id|t2_champ2_sum1|t2_champ2_sum2|t2_champ3id|t2_champ3_sum1|t2_champ3_sum2|t2_champ4id|t2_champ4_sum1|t2_champ4_sum2|t2_champ5id|t2_champ5_sum1|t2_champ5_sum2|t2_towerKills|t2_inhibitorKills|t2_baronKills|t2_dragonKills|t2_riftHeraldKills|t2_ban1|t2_ban2|t2_ban3|t2_ban4|t2_ban5|\n",
      "+------+------------+------------+--------+------+----------+----------+--------------+----------+-----------+---------------+-----------+--------------+--------------+-----------+--------------+--------------+-----------+--------------+--------------+-----------+--------------+--------------+-----------+--------------+--------------+-------------+-----------------+-------------+--------------+------------------+-------+-------+-------+-------+-------+-----------+--------------+--------------+-----------+--------------+--------------+-----------+--------------+--------------+-----------+--------------+--------------+-----------+--------------+--------------+-------------+-----------------+-------------+--------------+------------------+-------+-------+-------+-------+-------+\n",
      "|     0|           0|           0|       0|     0|       555|      1213|          6276|     20258|       2000|          26179|          0|             0|             0|          0|             0|             0|          0|             0|             0|          0|             0|             0|          0|             0|             0|         5938|            25732|        34901|         15213|             38542|      0|      0|      0|      0|      0|          0|             0|             0|          0|             0|             0|          0|             0|             0|          0|             0|             0|          0|             0|             0|         6702|            26495|        33347|         15388|             39127|      0|      0|      0|      0|      0|\n",
      "+------+------------+------------+--------+------+----------+----------+--------------+----------+-----------+---------------+-----------+--------------+--------------+-----------+--------------+--------------+-----------+--------------+--------------+-----------+--------------+--------------+-----------+--------------+--------------+-------------+-----------------+-------------+--------------+------------------+-------+-------+-------+-------+-------+-----------+--------------+--------------+-----------+--------------+--------------+-----------+--------------+--------------+-----------+--------------+--------------+-----------+--------------+--------------+-------------+-----------------+-------------+--------------+------------------+-------+-------+-------+-------+-------+\n",
      "\n"
     ]
    }
   ],
   "source": [
    "table.select([count(when(col(c)==0, c)).alias(c) for c in table.columns]).show()"
   ]
  },
  {
   "cell_type": "markdown",
   "metadata": {},
   "source": [
    "### Removendo linhas com dados faltantes\n",
    "Como o time azul é o time 1 e o time vermelho é o time 2, dados com valor 0 não representam a neutralidade que deveriam.\n",
    "\n",
    "Para corrigir isso, vamos substituir os valores 2 por -1. Assim não precisaremos ajustar os valores zerados e eles indicaram uma neutralidade."
   ]
  },
  {
   "cell_type": "code",
   "execution_count": 7,
   "metadata": {
    "scrolled": false
   },
   "outputs": [],
   "source": [
    "replaceColumns = [\"winner\",\"firstBlood\",\"firstTower\",\"firstInhibitor\",\"firstBaron\",\"firstDragon\",\"firstRiftHerald\"]\n",
    "\n",
    "for column in replaceColumns:\n",
    "        table = table.withColumn(column, when(col(column)==2,lit(-1)).otherwise(col(column)))"
   ]
  },
  {
   "cell_type": "markdown",
   "metadata": {
    "jupyter": {
     "outputs_hidden": false
    },
    "pycharm": {
     "name": "#%%\n"
    },
    "scrolled": true,
    "tags": []
   },
   "source": [
    "### Colunas de interesse para analisar as taxas de vitória"
   ]
  },
  {
   "cell_type": "code",
   "execution_count": 8,
   "metadata": {
    "jupyter": {
     "outputs_hidden": false
    },
    "pycharm": {
     "name": "#%%\n"
    },
    "scrolled": false,
    "tags": []
   },
   "outputs": [
    {
     "name": "stdout",
     "output_type": "stream",
     "text": [
      "['gameDuration', 'firstBlood', 'firstTower', 'firstInhibitor', 'firstBaron', 'firstDragon', 'firstRiftHerald', 't1_champ1id', 't1_champ1_sum1', 't1_champ1_sum2', 't1_champ2id', 't1_champ2_sum1', 't1_champ2_sum2', 't1_champ3id', 't1_champ3_sum1', 't1_champ3_sum2', 't1_champ4id', 't1_champ4_sum1', 't1_champ4_sum2', 't1_champ5id', 't1_champ5_sum1', 't1_champ5_sum2', 't1_towerKills', 't1_inhibitorKills', 't1_baronKills', 't1_dragonKills', 't1_riftHeraldKills', 't1_ban1', 't1_ban2', 't1_ban3', 't1_ban4', 't1_ban5', 't2_champ1id', 't2_champ1_sum1', 't2_champ1_sum2', 't2_champ2id', 't2_champ2_sum1', 't2_champ2_sum2', 't2_champ3id', 't2_champ3_sum1', 't2_champ3_sum2', 't2_champ4id', 't2_champ4_sum1', 't2_champ4_sum2', 't2_champ5id', 't2_champ5_sum1', 't2_champ5_sum2', 't2_towerKills', 't2_inhibitorKills', 't2_baronKills', 't2_dragonKills', 't2_riftHeraldKills', 't2_ban1', 't2_ban2', 't2_ban3', 't2_ban4', 't2_ban5']\n"
     ]
    }
   ],
   "source": [
    "columns = list(filter(lambda x: x not in [\"gameId\", \"creationTime\", \"seasonId\", \"winner\"], table.columns))\n",
    "print(columns)"
   ]
  },
  {
   "cell_type": "markdown",
   "metadata": {
    "jupyter": {
     "outputs_hidden": false
    },
    "pycharm": {
     "name": "#%%\n"
    },
    "scrolled": true,
    "tags": []
   },
   "source": [
    "### Correlação entre os principais parâmetros e a taxa de vitória\n",
    "Números negativos significa parâmetro benéfico ao time 1, números positivos significa parâmetro benéfico ao time 2\n",
    "\n",
    "As colunas firstBlood, firstTower, firstInhibitor, firstBaron, firstDragon, firstRiftHerald tem o número do time que conseguiu o objetivo, então essas relações indicam o nível de importância do objetivo para a vitória, independente do lado jogado."
   ]
  },
  {
   "cell_type": "code",
   "execution_count": 9,
   "metadata": {
    "jupyter": {
     "outputs_hidden": false
    },
    "pycharm": {
     "name": "#%%\n"
    },
    "scrolled": false,
    "tags": []
   },
   "outputs": [
    {
     "name": "stdout",
     "output_type": "stream",
     "text": [
      "Column               Winner         \n",
      "gameDuration         -0.02          \n",
      "firstBlood           0.18           \n",
      "firstTower           0.41           \n",
      "firstInhibitor       0.77           \n",
      "firstBaron           0.48           \n",
      "firstDragon          0.35           \n",
      "firstRiftHerald      0.27           \n",
      "t1_champ1id          -0.02          \n",
      "t1_champ1_sum1       -0.0           \n",
      "t1_champ1_sum2       0.0            \n",
      "t1_champ2id          -0.02          \n",
      "t1_champ2_sum1       -0.0           \n",
      "t1_champ2_sum2       0.0            \n",
      "t1_champ3id          -0.02          \n",
      "t1_champ3_sum1       0.0            \n",
      "t1_champ3_sum2       0.0            \n",
      "t1_champ4id          -0.02          \n",
      "t1_champ4_sum1       0.0            \n",
      "t1_champ4_sum2       0.0            \n",
      "t1_champ5id          -0.03          \n",
      "t1_champ5_sum1       0.0            \n",
      "t1_champ5_sum2       0.0            \n",
      "t1_towerKills        0.77           \n",
      "t1_inhibitorKills    0.65           \n",
      "t1_baronKills        0.37           \n",
      "t1_dragonKills       0.47           \n",
      "t1_riftHeraldKills   0.22           \n",
      "t1_ban1              -0.01          \n",
      "t1_ban2              -0.0           \n",
      "t1_ban3              -0.0           \n",
      "t1_ban4              -0.0           \n",
      "t1_ban5              0.0            \n",
      "t2_champ1id          0.01           \n",
      "t2_champ1_sum1       0.0            \n",
      "t2_champ1_sum2       -0.0           \n",
      "t2_champ2id          0.02           \n",
      "t2_champ2_sum1       -0.0           \n",
      "t2_champ2_sum2       -0.0           \n",
      "t2_champ3id          0.01           \n",
      "t2_champ3_sum1       -0.01          \n",
      "t2_champ3_sum2       0.0            \n",
      "t2_champ4id          0.01           \n",
      "t2_champ4_sum1       -0.0           \n",
      "t2_champ4_sum2       -0.0           \n",
      "t2_champ5id          0.01           \n",
      "t2_champ5_sum1       0.0            \n",
      "t2_champ5_sum2       -0.01          \n",
      "t2_towerKills        -0.79          \n",
      "t2_inhibitorKills    -0.66          \n",
      "t2_baronKills        -0.4           \n",
      "t2_dragonKills       -0.5           \n",
      "t2_riftHeraldKills   -0.23          \n",
      "t2_ban1              0.0            \n",
      "t2_ban2              -0.0           \n",
      "t2_ban3              -0.0           \n",
      "t2_ban4              0.0            \n",
      "t2_ban5              0.0            \n"
     ]
    }
   ],
   "source": [
    "cor={}\n",
    "for column in columns:\n",
    "    cor[column]= table.stat.corr(column, \"winner\")\n",
    "\n",
    "print(\"{:<20} {:<15}\".format('Column','Winner'))\n",
    "for k, v in cor.items():\n",
    "    print(\"{:<20} {:<15}\".format(k, round(v,2)))"
   ]
  },
  {
   "cell_type": "markdown",
   "metadata": {
    "jupyter": {
     "outputs_hidden": false
    },
    "pycharm": {
     "name": "#%%\n"
    },
    "scrolled": true,
    "tags": []
   },
   "source": [
    "### Convertendo para o pandas para poder usar bibliotecas gráficas"
   ]
  },
  {
   "cell_type": "code",
   "execution_count": 10,
   "metadata": {
    "jupyter": {
     "outputs_hidden": false
    },
    "pycharm": {
     "name": "#%%\n"
    },
    "scrolled": false,
    "tags": []
   },
   "outputs": [],
   "source": [
    "pandasTable = table.toPandas()"
   ]
  },
  {
   "cell_type": "markdown",
   "metadata": {
    "jupyter": {
     "outputs_hidden": false
    },
    "pycharm": {
     "name": "#%%\n"
    },
    "scrolled": true,
    "tags": []
   },
   "source": [
    "### Relação entre tempo de partida e time vencedor"
   ]
  },
  {
   "cell_type": "code",
   "execution_count": 11,
   "metadata": {
    "jupyter": {
     "outputs_hidden": false
    },
    "pycharm": {
     "name": "#%%\n"
    },
    "scrolled": false,
    "tags": []
   },
   "outputs": [
    {
     "data": {
      "text/plain": [
       "<seaborn.axisgrid.FacetGrid at 0x1fef2bd0e20>"
      ]
     },
     "execution_count": 11,
     "metadata": {},
     "output_type": "execute_result"
    },
    {
     "data": {
      "image/png": "[encoded data removed]",
      "text/plain": [
       "<Figure size 360x360 with 1 Axes>"
      ]
     },
     "metadata": {
      "needs_background": "light"
     },
     "output_type": "display_data"
    }
   ],
   "source": [
    "sns.lmplot(x='gameDuration',y='winner',data=pandasTable,fit_reg=True)"
   ]
  },
  {
   "cell_type": "markdown",
   "metadata": {
    "jupyter": {
     "outputs_hidden": false
    },
    "pycharm": {
     "name": "#%%\n"
    },
    "scrolled": true,
    "tags": []
   },
   "source": [
    "### Relação com o first blood"
   ]
  },
  {
   "cell_type": "code",
   "execution_count": 12,
   "metadata": {
    "jupyter": {
     "outputs_hidden": false
    },
    "pycharm": {
     "name": "#%%\n"
    },
    "scrolled": false,
    "tags": []
   },
   "outputs": [
    {
     "data": {
      "text/plain": [
       "<seaborn.axisgrid.FacetGrid at 0x1fef319c040>"
      ]
     },
     "execution_count": 12,
     "metadata": {},
     "output_type": "execute_result"
    },
    {
     "data": {
      "image/png": "[encoded data removed]",
      "text/plain": [
       "<Figure size 360x360 with 1 Axes>"
      ]
     },
     "metadata": {
      "needs_background": "light"
     },
     "output_type": "display_data"
    }
   ],
   "source": [
    "sns.lmplot(x='firstBlood',y='winner',data=pandasTable,fit_reg=True)"
   ]
  },
  {
   "cell_type": "markdown",
   "metadata": {
    "jupyter": {
     "outputs_hidden": false
    },
    "pycharm": {
     "name": "#%%\n"
    },
    "scrolled": true,
    "tags": []
   },
   "source": [
    "### Relação com a primeira torre derrubada"
   ]
  },
  {
   "cell_type": "code",
   "execution_count": 13,
   "metadata": {
    "jupyter": {
     "outputs_hidden": false
    },
    "pycharm": {
     "name": "#%%\n"
    },
    "scrolled": false,
    "tags": []
   },
   "outputs": [
    {
     "data": {
      "text/plain": [
       "<seaborn.axisgrid.FacetGrid at 0x1fef2c7ce50>"
      ]
     },
     "execution_count": 13,
     "metadata": {},
     "output_type": "execute_result"
    },
    {
     "data": {
      "image/png": "[encoded data removed]",
      "text/plain": [
       "<Figure size 360x360 with 1 Axes>"
      ]
     },
     "metadata": {
      "needs_background": "light"
     },
     "output_type": "display_data"
    }
   ],
   "source": [
    "sns.lmplot(x='firstTower',y='winner',data=pandasTable,fit_reg=True)"
   ]
  },
  {
   "cell_type": "markdown",
   "metadata": {
    "jupyter": {
     "outputs_hidden": false
    },
    "pycharm": {
     "name": "#%%\n"
    },
    "scrolled": true,
    "tags": []
   },
   "source": [
    "### Relação com o primeiro inibidor derrubado         "
   ]
  },
  {
   "cell_type": "code",
   "execution_count": 14,
   "metadata": {
    "jupyter": {
     "outputs_hidden": false
    },
    "pycharm": {
     "name": "#%%\n"
    },
    "tags": []
   },
   "outputs": [
    {
     "data": {
      "text/plain": [
       "<seaborn.axisgrid.FacetGrid at 0x1fef47a31c0>"
      ]
     },
     "execution_count": 14,
     "metadata": {},
     "output_type": "execute_result"
    },
    {
     "data": {
      "image/png": "[encoded data removed]",
      "text/plain": [
       "<Figure size 360x360 with 1 Axes>"
      ]
     },
     "metadata": {
      "needs_background": "light"
     },
     "output_type": "display_data"
    }
   ],
   "source": [
    "sns.lmplot(x='firstInhibitor',y='winner',data=pandasTable,fit_reg=True)"
   ]
  },
  {
   "cell_type": "markdown",
   "metadata": {
    "jupyter": {
     "outputs_hidden": false
    },
    "pycharm": {
     "name": "#%%\n"
    },
    "scrolled": true,
    "tags": []
   },
   "source": [
    "### Relação com o primeiro barão"
   ]
  },
  {
   "cell_type": "code",
   "execution_count": 15,
   "metadata": {
    "jupyter": {
     "outputs_hidden": false
    },
    "pycharm": {
     "name": "#%%\n"
    },
    "tags": []
   },
   "outputs": [
    {
     "data": {
      "text/plain": [
       "<seaborn.axisgrid.FacetGrid at 0x1fef456a910>"
      ]
     },
     "execution_count": 15,
     "metadata": {},
     "output_type": "execute_result"
    },
    {
     "data": {
      "image/png": "[encoded data removed]",
      "text/plain": [
       "<Figure size 360x360 with 1 Axes>"
      ]
     },
     "metadata": {
      "needs_background": "light"
     },
     "output_type": "display_data"
    }
   ],
   "source": [
    "sns.lmplot(x='firstBaron',y='winner',data=pandasTable,fit_reg=True)"
   ]
  },
  {
   "cell_type": "markdown",
   "metadata": {
    "jupyter": {
     "outputs_hidden": false
    },
    "pycharm": {
     "name": "#%%\n"
    },
    "scrolled": true,
    "tags": []
   },
   "source": [
    "### Relação com o primeiro dragão"
   ]
  },
  {
   "cell_type": "code",
   "execution_count": 16,
   "metadata": {
    "jupyter": {
     "outputs_hidden": false
    },
    "pycharm": {
     "name": "#%%\n"
    },
    "tags": []
   },
   "outputs": [
    {
     "data": {
      "text/plain": [
       "<seaborn.axisgrid.FacetGrid at 0x1fef30d2fa0>"
      ]
     },
     "execution_count": 16,
     "metadata": {},
     "output_type": "execute_result"
    },
    {
     "data": {
      "image/png": "[encoded data removed]",
      "text/plain": [
       "<Figure size 360x360 with 1 Axes>"
      ]
     },
     "metadata": {
      "needs_background": "light"
     },
     "output_type": "display_data"
    }
   ],
   "source": [
    "sns.lmplot(x='firstDragon',y='winner',data=pandasTable,fit_reg=True)"
   ]
  },
  {
   "cell_type": "markdown",
   "metadata": {
    "jupyter": {
     "outputs_hidden": false
    },
    "pycharm": {
     "name": "#%%\n"
    },
    "scrolled": true,
    "tags": []
   },
   "source": [
    "### Relação com o primeiro arauto"
   ]
  },
  {
   "cell_type": "code",
   "execution_count": 17,
   "metadata": {
    "jupyter": {
     "outputs_hidden": false
    },
    "pycharm": {
     "name": "#%%\n"
    },
    "scrolled": false,
    "tags": []
   },
   "outputs": [
    {
     "data": {
      "text/plain": [
       "<seaborn.axisgrid.FacetGrid at 0x1fef31685b0>"
      ]
     },
     "execution_count": 17,
     "metadata": {},
     "output_type": "execute_result"
    },
    {
     "data": {
      "image/png": "[encoded data removed]",
      "text/plain": [
       "<Figure size 360x360 with 1 Axes>"
      ]
     },
     "metadata": {
      "needs_background": "light"
     },
     "output_type": "display_data"
    }
   ],
   "source": [
    "sns.lmplot(x='firstRiftHerald',y='winner',data=pandasTable,fit_reg=True)   "
   ]
  },
  {
   "cell_type": "markdown",
   "metadata": {
    "jupyter": {
     "outputs_hidden": false
    },
    "pycharm": {
     "name": "#%%\n"
    },
    "scrolled": true
   },
   "source": [
    "## Preparação de um algoritmo de RandomForest para prever o vencedor"
   ]
  },
  {
   "cell_type": "markdown",
   "metadata": {
    "jupyter": {
     "outputs_hidden": false
    },
    "pycharm": {
     "name": "#%%\n"
    },
    "scrolled": true
   },
   "source": [
    "### Separando em dados de teste e treino"
   ]
  },
  {
   "cell_type": "code",
   "execution_count": 19,
   "metadata": {
    "jupyter": {
     "outputs_hidden": false
    },
    "pycharm": {
     "name": "#%%\n"
    },
    "scrolled": false
   },
   "outputs": [],
   "source": [
    "(dataTrain, dataTest) = table.randomSplit((0.8, 0.2))"
   ]
  },
  {
   "cell_type": "markdown",
   "metadata": {
    "jupyter": {
     "outputs_hidden": false
    },
    "pycharm": {
     "name": "#%%\n"
    },
    "scrolled": true,
    "tags": []
   },
   "source": [
    "### Dados de treino"
   ]
  },
  {
   "cell_type": "code",
   "execution_count": 20,
   "metadata": {
    "jupyter": {
     "outputs_hidden": false
    },
    "pycharm": {
     "name": "#%%\n"
    },
    "scrolled": false,
    "tags": []
   },
   "outputs": [
    {
     "name": "stdout",
     "output_type": "stream",
     "text": [
      "+----------+-------------+------------+--------+------+----------+----------+--------------+----------+-----------+---------------+-----------+--------------+--------------+-----------+--------------+--------------+-----------+--------------+--------------+-----------+--------------+--------------+-----------+--------------+--------------+-------------+-----------------+-------------+--------------+------------------+-------+-------+-------+-------+-------+-----------+--------------+--------------+-----------+--------------+--------------+-----------+--------------+--------------+-----------+--------------+--------------+-----------+--------------+--------------+-------------+-----------------+-------------+--------------+------------------+-------+-------+-------+-------+-------+\n",
      "|    gameId| creationTime|gameDuration|seasonId|winner|firstBlood|firstTower|firstInhibitor|firstBaron|firstDragon|firstRiftHerald|t1_champ1id|t1_champ1_sum1|t1_champ1_sum2|t1_champ2id|t1_champ2_sum1|t1_champ2_sum2|t1_champ3id|t1_champ3_sum1|t1_champ3_sum2|t1_champ4id|t1_champ4_sum1|t1_champ4_sum2|t1_champ5id|t1_champ5_sum1|t1_champ5_sum2|t1_towerKills|t1_inhibitorKills|t1_baronKills|t1_dragonKills|t1_riftHeraldKills|t1_ban1|t1_ban2|t1_ban3|t1_ban4|t1_ban5|t2_champ1id|t2_champ1_sum1|t2_champ1_sum2|t2_champ2id|t2_champ2_sum1|t2_champ2_sum2|t2_champ3id|t2_champ3_sum1|t2_champ3_sum2|t2_champ4id|t2_champ4_sum1|t2_champ4_sum2|t2_champ5id|t2_champ5_sum1|t2_champ5_sum2|t2_towerKills|t2_inhibitorKills|t2_baronKills|t2_dragonKills|t2_riftHeraldKills|t2_ban1|t2_ban2|t2_ban3|t2_ban4|t2_ban5|\n",
      "+----------+-------------+------------+--------+------+----------+----------+--------------+----------+-----------+---------------+-----------+--------------+--------------+-----------+--------------+--------------+-----------+--------------+--------------+-----------+--------------+--------------+-----------+--------------+--------------+-------------+-----------------+-------------+--------------+------------------+-------+-------+-------+-------+-------+-----------+--------------+--------------+-----------+--------------+--------------+-----------+--------------+--------------+-----------+--------------+--------------+-----------+--------------+--------------+-------------+-----------------+-------------+--------------+------------------+-------+-------+-------+-------+-------+\n",
      "|3214824413|1496891694922|        1274|       9|    -1|        -1|        -1|            -1|         0|         -1|             -1|        114|             4|            12|         22|             4|             7|          1|             4|            14|         40|             3|             4|         11|            11|             4|            1|                0|            0|             0|                 0|     23|     58|     43|    105|     25|        427|            11|             4|         17|            14|             4|        202|             7|             4|        412|             4|             3|        245|            14|             4|           10|                2|            0|             2|                 1|     55|    157|    236|    154|    122|\n",
      "|3214825708|1496895328536|        2087|       9|     1|        -1|        -1|             1|         1|         -1|             -1|        110|             7|             4|        432|             4|             3|        266|            12|             4|        121|            11|             4|        131|            12|             4|           10|                2|            2|             0|                 0|    154|      8|    117|     69|    114|        412|             4|             3|         64|            11|             4|        103|            12|             4|         58|            12|             4|         29|             4|             7|            4|                0|            0|             2|                 1|      8|    427|      3|    105|    114|\n",
      "|3214843995|1496894087920|        2033|       9|     1|        -1|         1|             1|        -1|          1|             -1|         64|            11|             4|         41|             4|             3|        412|             3|             4|         61|             6|             4|         51|             7|             4|            9|                2|            0|             1|                 0|    240|      3|    117|    154|    119|        104|             4|            11|         54|             4|            12|        429|             7|             4|        432|             4|            14|        126|             4|            12|            6|                0|            1|             3|                 1|    154|    164|      3|    119|    498|\n",
      "|3214864950|1496898338366|        1613|       9|    -1|         1|         1|            -1|        -1|          1|              0|        202|             4|             7|        157|             4|            14|         29|            11|             4|        122|            12|             4|        412|             3|             4|            4|                0|            0|             2|                 0|    114|      3|    117|    154|     38|          4|             3|             4|         75|            12|             4|         22|             4|             7|         40|             4|             3|         33|            11|             4|            6|                1|            1|             1|                 0|    143|     38|    498|     55|    427|\n",
      "|3215002754|1496911967206|        2180|       9|    -1|         1|        -1|            -1|        -1|         -1|              0|        245|             4|            12|         51|             4|             7|         11|             4|            11|        267|             4|             3|         10|             4|            12|            6|                0|            0|             2|                 0|    498|    122|    119|    154|    105|         16|             4|            14|         21|             7|             4|         45|             4|            12|        143|             4|             3|         19|            11|             4|            9|                2|            1|             2|                 0|    154|    117|    157|    136|      3|\n",
      "|3215041408|1496916795293|        1462|       9|     1|         1|         1|             1|         0|          1|              0|         25|             7|             4|         83|             4|            12|        133|            11|             4|         13|            14|             4|         21|             7|             4|            8|                2|            0|             1|                 0|    238|     67|    157|     51|    114|        222|             7|             4|        143|             4|             3|        203|             4|            11|         92|            12|             4|          4|             4|             6|            1|                0|            0|             1|                 0|    412|     85|     63|    157|    104|\n",
      "|3215048277|1496920602204|        1219|       9|     1|         1|         1|             0|         0|          1|              1|        103|             4|            14|         16|             4|             3|         62|            12|             4|         32|             4|            11|         51|             7|             4|            6|                0|            0|             2|                 1|    157|    154|    427|     28|    122|        107|            11|             4|        236|             4|             7|        131|            14|             4|         25|             4|            14|        497|             3|            12|            0|                0|            0|             0|                 0|    238|    122|    154|    117|      4|\n",
      "|3215055302|1496919849443|        1821|       9|    -1|        -1|        -1|            -1|         0|         -1|             -1|         48|             4|            12|         64|             4|            11|        202|             7|             4|          8|             4|             3|        267|             4|             3|            4|                0|            0|             1|                 0|    121|     22|    157|    498|      3|         51|             4|             7|        254|            11|             4|        238|            14|             4|         58|            12|             4|         99|             4|             7|           10|                2|            0|             1|                 1|    154|    105|     63|    114|    498|\n",
      "|3215055523|1496919919142|        1994|       9|     1|         1|        -1|             1|         1|         -1|             -1|        154|             4|            11|        222|             7|             4|        161|             4|            14|        126|             4|            12|         14|             3|             4|            7|                1|            2|             1|                 0|     67|    157|      3|     75|     23|        432|             4|             3|         64|            11|             4|        134|             6|             4|         92|            12|             4|        498|             7|             4|            5|                0|            0|             2|                 1|    157|     39|     51|     19|    114|\n",
      "|3215094612|1496923677276|        1410|       9|    -1|        -1|        -1|            -1|        -1|         -1|              0|        119|             4|             7|          5|             4|            11|        245|            14|             4|         89|             4|             3|        114|             4|            12|            0|                0|            0|             0|                 0|    238|    164|     64|    154|     53|         40|             3|             4|        157|            12|             4|         51|             7|             4|        121|             4|            11|        105|             4|            14|            9|                1|            1|             2|                 0|    498|      7|      3|    117|    113|\n",
      "|3215097070|1496924717588|        2022|       9|    -1|        -1|        -1|            -1|        -1|          1|              0|          4|             4|             6|        223|             4|             3|        119|             7|             4|         11|             6|            11|        131|             4|            14|            4|                0|            0|             2|                 0|    238|    114|    154|     67|    157|        254|            11|             4|        201|             4|             3|         10|             4|            12|        236|             4|             7|        103|            14|             4|           10|                2|            1|             1|                 0|    122|    222|    164|    117|    157|\n",
      "|3215106425|1496925015992|        1545|       9|    -1|        -1|        -1|            -1|        -1|         -1|             -1|        117|             4|             3|         17|            11|             4|         92|             4|            12|        498|             7|             4|        103|            14|             4|            0|                0|            0|             0|                 0|    122|    114|     55|     38|     64|          4|             4|            14|         58|            12|             4|         51|             4|             7|         28|             4|            11|        412|             4|             3|            9|                2|            1|             3|                 1|    154|     38|    122|     16|     35|\n",
      "|3215107960|1496925585697|        2211|       9|    -1|         1|        -1|            -1|        -1|         -1|              0|        157|             4|            12|        432|             3|             4|         99|            14|             4|         51|             4|             7|         54|            11|             4|            5|                0|            0|             0|                 0|    498|     55|    161|    122|     57|         64|             4|            11|         69|             3|             4|         29|             4|             7|        117|             4|             3|        245|             4|            12|            8|                1|            2|             4|                 0|     61|    412|    240|    154|     53|\n",
      "|3215114840|1496924446414|        2357|       9|    -1|         1|        -1|            -1|         1|         -1|              0|         61|            21|             4|         84|             4|            14|         21|             7|             4|         99|             4|             3|         33|             4|            11|            2|                0|            1|             1|                 0|    114|    134|    122|    498|     51|         29|             4|             7|         11|            11|             4|         14|             4|            12|         63|             4|            14|        105|             4|            14|            9|                1|            0|             3|                 0|    134|    117|     60|    157|    122|\n",
      "|3215143248|1496927070696|        2682|       9|    -1|         1|         1|            -1|         1|          1|              0|        143|             3|             4|         32|             4|            11|         51|             7|             4|         19|             4|            12|         69|             4|             6|            6|                0|            1|             3|                 0|     63|    122|    114|     53|     64|         84|            14|             4|          5|            11|             4|        245|             4|            12|        497|             3|             4|        498|             7|             4|           11|                3|            1|             2|                 0|     50|     28|    105|    114|    122|\n",
      "|3215214880|1496931412914|         199|       9|     1|         0|         0|             0|         0|          0|              0|         24|             4|            11|        143|             3|             4|         29|             4|             7|        103|            14|             4|         39|             4|            12|            0|                0|            0|             0|                 0|     64|    119|    498|      5|    122|         11|            12|             4|        254|             4|            11|         13|             4|             6|        223|             3|             4|         21|             4|             7|            0|                0|            0|             0|                 0|     51|    114|    157|     89|    105|\n",
      "|3215257447|1496935334850|        1987|       9|     1|         1|        -1|            -1|         1|         -1|             -1|        157|            12|             4|        412|             3|             4|         18|             4|             7|         43|            21|             4|         80|            11|             4|            7|                1|            1|             1|                 0|    113|     53|    114|     67|      9|        133|            11|             4|        245|            14|             4|         68|             4|            12|        497|             3|             4|         81|             4|             7|            7|                1|            0|             3|                 1|    134|    122|      1|    105|    498|\n",
      "|3215297742|1496937917760|        1961|       9|    -1|         1|         1|            -1|         0|          1|              0|          3|             4|             3|        103|             4|            14|        236|             4|             7|        117|            14|             4|         24|            11|             4|            3|                0|            0|             2|                 0|    238|     55|     19|     53|    157|         58|             4|            12|        121|            11|             4|        222|             4|             7|          7|            14|             4|         37|             4|             3|           11|                3|            0|             0|                 0|    114|     17|    154|    412|     99|\n",
      "|3215313758|1496937385277|        1538|       9|    -1|         1|        -1|            -1|        -1|         -1|             -1|          8|             4|            14|         19|             4|            11|        119|             4|             7|        117|            14|             4|         59|            12|             4|            1|                0|            0|             0|                 0|     29|     61|     38|    154|     51|         53|             4|            14|         76|             4|            11|        126|            12|             4|         22|             4|             7|          7|             4|            14|            9|                2|            1|             2|                 1|    154|    427|     79|    236|      3|\n",
      "|3215315292|1496937818131|        1317|       9|     1|         1|        -1|             0|         0|         -1|              1|         67|             4|             7|        497|             3|             4|         35|            14|            12|         91|            14|             4|        154|             4|            11|            2|                0|            0|             0|                 1|    117|    238|     53|     86|    157|         32|            11|             4|         92|             4|            12|          3|             4|            14|        111|             3|             4|        429|             4|             7|            1|                0|            0|             2|                 0|    105|    157|    104|    119|    113|\n",
      "+----------+-------------+------------+--------+------+----------+----------+--------------+----------+-----------+---------------+-----------+--------------+--------------+-----------+--------------+--------------+-----------+--------------+--------------+-----------+--------------+--------------+-----------+--------------+--------------+-------------+-----------------+-------------+--------------+------------------+-------+-------+-------+-------+-------+-----------+--------------+--------------+-----------+--------------+--------------+-----------+--------------+--------------+-----------+--------------+--------------+-----------+--------------+--------------+-------------+-----------------+-------------+--------------+------------------+-------+-------+-------+-------+-------+\n",
      "only showing top 20 rows\n",
      "\n"
     ]
    }
   ],
   "source": [
    "dataTrain.show()"
   ]
  },
  {
   "cell_type": "markdown",
   "metadata": {
    "jupyter": {
     "outputs_hidden": false
    },
    "pycharm": {
     "name": "#%%\n"
    },
    "scrolled": true,
    "tags": []
   },
   "source": [
    "### Dados de teste"
   ]
  },
  {
   "cell_type": "code",
   "execution_count": 21,
   "metadata": {
    "jupyter": {
     "outputs_hidden": false
    },
    "pycharm": {
     "name": "#%%\n"
    },
    "scrolled": false,
    "tags": []
   },
   "outputs": [
    {
     "name": "stdout",
     "output_type": "stream",
     "text": [
      "+----------+-------------+------------+--------+------+----------+----------+--------------+----------+-----------+---------------+-----------+--------------+--------------+-----------+--------------+--------------+-----------+--------------+--------------+-----------+--------------+--------------+-----------+--------------+--------------+-------------+-----------------+-------------+--------------+------------------+-------+-------+-------+-------+-------+-----------+--------------+--------------+-----------+--------------+--------------+-----------+--------------+--------------+-----------+--------------+--------------+-----------+--------------+--------------+-------------+-----------------+-------------+--------------+------------------+-------+-------+-------+-------+-------+\n",
      "|    gameId| creationTime|gameDuration|seasonId|winner|firstBlood|firstTower|firstInhibitor|firstBaron|firstDragon|firstRiftHerald|t1_champ1id|t1_champ1_sum1|t1_champ1_sum2|t1_champ2id|t1_champ2_sum1|t1_champ2_sum2|t1_champ3id|t1_champ3_sum1|t1_champ3_sum2|t1_champ4id|t1_champ4_sum1|t1_champ4_sum2|t1_champ5id|t1_champ5_sum1|t1_champ5_sum2|t1_towerKills|t1_inhibitorKills|t1_baronKills|t1_dragonKills|t1_riftHeraldKills|t1_ban1|t1_ban2|t1_ban3|t1_ban4|t1_ban5|t2_champ1id|t2_champ1_sum1|t2_champ1_sum2|t2_champ2id|t2_champ2_sum1|t2_champ2_sum2|t2_champ3id|t2_champ3_sum1|t2_champ3_sum2|t2_champ4id|t2_champ4_sum1|t2_champ4_sum2|t2_champ5id|t2_champ5_sum1|t2_champ5_sum2|t2_towerKills|t2_inhibitorKills|t2_baronKills|t2_dragonKills|t2_riftHeraldKills|t2_ban1|t2_ban2|t2_ban3|t2_ban4|t2_ban5|\n",
      "+----------+-------------+------------+--------+------+----------+----------+--------------+----------+-----------+---------------+-----------+--------------+--------------+-----------+--------------+--------------+-----------+--------------+--------------+-----------+--------------+--------------+-----------+--------------+--------------+-------------+-----------------+-------------+--------------+------------------+-------+-------+-------+-------+-------+-----------+--------------+--------------+-----------+--------------+--------------+-----------+--------------+--------------+-----------+--------------+--------------+-----------+--------------+--------------+-------------+-----------------+-------------+--------------+------------------+-------+-------+-------+-------+-------+\n",
      "|3215007763|1496915581238|        1382|       9|    -1|         1|        -1|            -1|         0|         -1|             -1|        154|             4|            11|        497|            14|             4|        202|             7|             4|        157|            12|             4|         25|             4|            12|            0|                0|            0|             0|                 0|    119|      7|    236|    222|     23|        143|             4|             3|          3|             4|            12|         99|             4|             3|         21|             7|             4|         11|             6|            11|            6|                1|            0|             3|                 1|     58|     29|    119|    268|    114|\n",
      "|3215251253|1496933384820|         197|       9|    -1|         0|         0|             0|         0|          0|              0|         51|             7|             4|         86|             4|            12|        143|             4|            14|        238|             4|            14|        203|            11|             4|            0|                0|            0|             0|                 0|    122|    105|     11|    114|    120|         63|            14|             4|         84|             4|             3|        201|             4|             3|        119|             4|             7|        121|            11|             4|            0|                0|            0|             0|                 0|     55|     80|     53|    157|    105|\n",
      "|3215303507|1496937119679|        1717|       9|     1|        -1|         1|             1|         1|          1|              1|         67|             7|             4|         17|            14|             4|         83|            12|             4|         79|            11|             4|         89|             4|             3|           10|                3|            1|             2|                 1|    498|    117|      5|      7|    154|         18|             4|             7|        412|             4|             3|         11|             4|            11|        163|             6|             4|         75|             4|            12|            2|                0|            0|             0|                 0|     64|    157|     24|     29|    134|\n",
      "|3215451229|1496944876317|        1828|       9|     1|         1|         1|             1|         0|         -1|             -1|         69|             4|             3|        412|             4|            14|        164|            12|             4|         22|             7|             4|         35|             4|            11|           10|                2|            0|             3|                 0|    122|    105|    157|     19|    154|         24|             4|            11|        245|            14|             4|         17|            14|             4|        497|             4|             3|         67|             4|             7|            1|                0|            0|             1|                 1|     51|     90|    223|    157|    122|\n",
      "|3215465619|1496946494205|        2352|       9|     1|         1|         1|             1|         1|          1|              0|         62|            12|             4|         61|             4|            21|        202|             4|             7|         64|             4|            11|         63|             3|             4|           11|                3|            1|             4|                 0|    498|    105|     90|     19|    114|        134|             4|            12|         35|            11|            14|        117|             4|             3|         81|             7|             4|        150|             4|            12|            3|                0|            0|             0|                 0|    120|    154|    105|    114|     51|\n",
      "|3215518658|1496949891145|        1586|       9|    -1|        -1|        -1|            -1|         0|         -1|             -1|        268|            12|             4|        222|             7|             4|        143|             4|             3|         92|             4|            12|         64|             4|            11|            2|                0|            0|             0|                 0|    122|    157|     53|    238|     86|        412|            14|             4|         17|            12|             4|        107|             4|            11|         51|             7|             4|        103|            14|             4|            9|                2|            0|             2|                 1|     19|     53|     67|     58|    157|\n",
      "|3215584595|1496951420997|        1547|       9|     1|         1|         1|             1|         0|          1|              0|        134|             6|             4|        222|             7|             4|        104|             4|            11|         37|             3|             4|         75|            12|             4|           10|                2|            0|             3|                 0|    412|     51|     53|    105|    122|        498|             7|             4|         99|             4|             3|        121|             4|            11|        101|             6|             4|         98|             4|            12|            0|                0|            0|             0|                 0|    238|     11|    107|    114|    157|\n",
      "|3215736135|1496960820989|        2134|       9|    -1|        -1|         1|            -1|        -1|         -1|              0|         14|             4|             3|         51|             4|             7|        245|            12|             4|        134|             4|             1|         35|            11|            14|            6|                0|            0|             1|                 0|     38|    105|    117|    427|    154|         21|             7|             4|          4|             3|             4|          2|            11|             6|        157|             4|            12|         63|            14|             4|            9|                2|            2|             3|                 0|    117|    427|    497|    104|     60|\n",
      "|3215789792|1496968987483|        1326|       9|     1|         1|         1|             1|         1|          1|              1|         20|             4|            11|        126|            12|             4|          7|             4|            12|        119|             4|             7|         40|             4|             3|           11|                3|            1|             2|                 1|     51|     38|      3|    154|    157|        121|            11|             4|        412|             4|            14|         79|             4|            12|        238|             4|            14|         22|             7|             4|            0|                0|            0|             0|                 0|      8|     60|    154|    117|     28|\n",
      "|3216079693|1497014907142|        1296|       9|     1|         1|         1|             0|         0|          1|              0|         19|             4|            11|        143|             4|             3|        131|             4|            14|        114|            12|             4|         81|             4|             7|            5|                0|            0|             2|                 0|    119|    238|     58|    157|    117|         33|            11|             4|          6|             3|             4|         21|             7|             4|         43|             3|             4|        122|            12|             4|            1|                0|            0|             0|                 0|    497|     90|    236|    157|    201|\n",
      "|3216081181|1497012077724|        1601|       9|    -1|        -1|        -1|            -1|        -1|         -1|             -1|         83|             4|            12|         53|             4|             3|        498|             7|             4|         11|            11|             4|        115|             4|            21|            0|                0|            0|             0|                 0|     28|    143|     51|    157|      3|        236|             4|             7|        497|             4|             3|         99|             4|            21|        106|             6|            11|         23|             4|            14|           10|                2|            1|             3|                 1|     54|    133|    238|     51|    157|\n",
      "|3216185785|1497016405731|        2011|       9|     1|        -1|        -1|            -1|        -1|         -1|             -1|        136|             3|             4|         22|             7|             4|        126|             4|            12|         35|            14|            11|        497|            14|             4|            6|                1|            1|             0|                 0|    105|    113|     64|    154|    117|        412|             4|             7|         20|             4|            11|         98|             4|            12|        238|             4|            14|         81|            14|             4|            8|                1|            1|             4|                 1|    154|    157|    117|    236|    113|\n",
      "|3216215347|1497016824594|        1297|       9|    -1|         1|         1|             0|         0|          1|             -1|        203|            11|             4|        157|             4|            12|        497|             4|             3|         67|             4|             7|        112|             4|             6|            1|                0|            0|             1|                 0|    105|    117|    238|     64|      7|         92|            12|             4|         90|            14|             4|        106|             3|             4|        222|             7|             4|         23|             6|            11|            5|                0|            0|             1|                 1|     86|     64|    119|    412|    105|\n",
      "|3216827006|1497034999267|        2788|       9|     1|         1|         1|             1|        -1|          1|              1|        497|             4|             3|        429|             4|             7|         29|             4|            11|         92|            12|             4|        157|             4|            14|           10|                4|            0|             3|                 1|     51|    103|     23|    254|     25|         64|            11|             4|        432|            14|             4|         54|            12|             4|        110|             7|             4|         42|             6|             4|            9|                1|            1|             1|                 0|     53|     63|    121|    122|     67|\n",
      "|3216908489|1497038435147|        1550|       9|     1|         1|         1|             1|         0|          1|              0|         58|            12|             4|         59|             4|            11|         69|            21|             4|        412|             4|            14|         18|             7|             4|           10|                2|            0|             1|                 0|    114|     99|      8|    157|    119|         79|             4|            11|          7|             4|            14|         64|             4|            12|        117|             3|             4|         51|             7|             4|            0|                0|            0|             0|                 0|     57|     90|     45|    105|    122|\n",
      "|3217004628|1497042452772|        1559|       9|    -1|         1|        -1|            -1|         0|         -1|              0|        203|            11|             4|         17|            14|             7|         58|             3|             7|         85|            12|             4|         83|             4|            12|            0|                0|            0|             0|                 0|     19|     55|     67|    126|    122|          5|             4|            11|         30|            14|             4|         25|             4|            14|         81|             4|             7|         14|             4|            12|           10|                1|            0|             2|                 0|    420|     74|     45|    117|     24|\n",
      "|3217023748|1497042385961|         937|       9|    -1|        -1|        -1|             0|         0|         -1|             -1|        112|             6|             4|         10|            12|             4|         51|             4|             7|        497|            14|             4|         19|             4|            11|            0|                0|            0|             0|                 0|     64|    157|      3|     67|    121|        421|             4|            11|         92|            12|             4|         44|             3|             4|         29|             7|             4|         96|             7|             4|            4|                0|            0|             1|                 1|    154|    105|    238|    119|    498|\n",
      "|3217410624|1497090313385|        1920|       9|     1|         1|         1|             1|         1|          1|             -1|         22|             4|             7|          3|            12|             4|         19|            11|             4|        103|             4|            14|         25|             4|             3|            7|                1|            1|             2|                 0|    154|    238|    122|    157|     55|         45|             4|            12|         86|             4|            14|        421|            11|             4|        267|             4|             3|        202|             4|             7|            1|                0|            0|             0|                 1|     11|    131|    238|    122|    117|\n",
      "|3217565993|1497102347669|        3241|       9|     1|         1|        -1|             1|         1|          1|              0|         17|            14|             4|          5|             4|            11|         53|            14|             4|        119|             4|             7|        134|             4|            21|            9|                2|            1|             3|                 0|     40|    201|     25|    157|    238|        497|             4|            14|        498|             4|             7|         45|            21|             4|        245|            12|             4|         77|            11|             6|            6|                1|            2|             3|                 0|    236|    201|      7|     63|    122|\n",
      "|3217623985|1497104599485|         871|       9|    -1|         1|        -1|            -1|         0|         -1|             -1|        245|            12|             4|         32|            11|             4|         37|             4|            14|        134|            14|             4|        119|             4|             7|            0|                0|            0|             0|                 0|    154|    117|     40|     51|    157|        103|             4|            14|         64|            11|             4|         29|             7|             4|         59|             4|            12|        267|             3|             4|            9|                1|            0|             1|                 1|    154|    105|    114|     92|    238|\n",
      "+----------+-------------+------------+--------+------+----------+----------+--------------+----------+-----------+---------------+-----------+--------------+--------------+-----------+--------------+--------------+-----------+--------------+--------------+-----------+--------------+--------------+-----------+--------------+--------------+-------------+-----------------+-------------+--------------+------------------+-------+-------+-------+-------+-------+-----------+--------------+--------------+-----------+--------------+--------------+-----------+--------------+--------------+-----------+--------------+--------------+-----------+--------------+--------------+-------------+-----------------+-------------+--------------+------------------+-------+-------+-------+-------+-------+\n",
      "only showing top 20 rows\n",
      "\n"
     ]
    }
   ],
   "source": [
    "dataTest.show()"
   ]
  },
  {
   "cell_type": "markdown",
   "metadata": {
    "jupyter": {
     "outputs_hidden": false
    },
    "pycharm": {
     "name": "#%%\n"
    },
    "scrolled": true
   },
   "source": [
    "### Cálculo utilizando todos os dados obtidos após o fim da partida"
   ]
  },
  {
   "cell_type": "code",
   "execution_count": 22,
   "metadata": {
    "jupyter": {
     "outputs_hidden": false
    },
    "pycharm": {
     "name": "#%%\n"
    },
    "scrolled": false
   },
   "outputs": [
    {
     "name": "stdout",
     "output_type": "stream",
     "text": [
      "+----------+-------------+------------+--------+------+----------+----------+--------------+----------+-----------+---------------+-----------+--------------+--------------+-----------+--------------+--------------+-----------+--------------+--------------+-----------+--------------+--------------+-----------+--------------+--------------+-------------+-----------------+-------------+--------------+------------------+-------+-------+-------+-------+-------+-----------+--------------+--------------+-----------+--------------+--------------+-----------+--------------+--------------+-----------+--------------+--------------+-----------+--------------+--------------+-------------+-----------------+-------------+--------------+------------------+-------+-------+-------+-------+-------+--------------------+-----+--------------------+--------------------+----------+\n",
      "|    gameId| creationTime|gameDuration|seasonId|winner|firstBlood|firstTower|firstInhibitor|firstBaron|firstDragon|firstRiftHerald|t1_champ1id|t1_champ1_sum1|t1_champ1_sum2|t1_champ2id|t1_champ2_sum1|t1_champ2_sum2|t1_champ3id|t1_champ3_sum1|t1_champ3_sum2|t1_champ4id|t1_champ4_sum1|t1_champ4_sum2|t1_champ5id|t1_champ5_sum1|t1_champ5_sum2|t1_towerKills|t1_inhibitorKills|t1_baronKills|t1_dragonKills|t1_riftHeraldKills|t1_ban1|t1_ban2|t1_ban3|t1_ban4|t1_ban5|t2_champ1id|t2_champ1_sum1|t2_champ1_sum2|t2_champ2id|t2_champ2_sum1|t2_champ2_sum2|t2_champ3id|t2_champ3_sum1|t2_champ3_sum2|t2_champ4id|t2_champ4_sum1|t2_champ4_sum2|t2_champ5id|t2_champ5_sum1|t2_champ5_sum2|t2_towerKills|t2_inhibitorKills|t2_baronKills|t2_dragonKills|t2_riftHeraldKills|t2_ban1|t2_ban2|t2_ban3|t2_ban4|t2_ban5|            features|label|       rawPrediction|         probability|prediction|\n",
      "+----------+-------------+------------+--------+------+----------+----------+--------------+----------+-----------+---------------+-----------+--------------+--------------+-----------+--------------+--------------+-----------+--------------+--------------+-----------+--------------+--------------+-----------+--------------+--------------+-------------+-----------------+-------------+--------------+------------------+-------+-------+-------+-------+-------+-----------+--------------+--------------+-----------+--------------+--------------+-----------+--------------+--------------+-----------+--------------+--------------+-----------+--------------+--------------+-------------+-----------------+-------------+--------------+------------------+-------+-------+-------+-------+-------+--------------------+-----+--------------------+--------------------+----------+\n",
      "|3215007763|1496915581238|        1382|       9|    -1|         1|        -1|            -1|         0|         -1|             -1|        154|             4|            11|        497|            14|             4|        202|             7|             4|        157|            12|             4|         25|             4|            12|            0|                0|            0|             0|                 0|    119|      7|    236|    222|     23|        143|             4|             3|          3|             4|            12|         99|             4|             3|         21|             7|             4|         11|             6|            11|            6|                1|            0|             3|                 1|     58|     29|    119|    268|    114|[1382.0,1.0,-1.0,...|  1.0|[0.23125121356320...|[0.01156256067816...|       1.0|\n",
      "|3215251253|1496933384820|         197|       9|    -1|         0|         0|             0|         0|          0|              0|         51|             7|             4|         86|             4|            12|        143|             4|            14|        238|             4|            14|        203|            11|             4|            0|                0|            0|             0|                 0|    122|    105|     11|    114|    120|         63|            14|             4|         84|             4|             3|        201|             4|             3|        119|             4|             7|        121|            11|             4|            0|                0|            0|             0|                 0|     55|     80|     53|    157|    105|[197.0,0.0,0.0,0....|  1.0|[11.1608145509741...|[0.55804072754870...|       0.0|\n",
      "|3215303507|1496937119679|        1717|       9|     1|        -1|         1|             1|         1|          1|              1|         67|             7|             4|         17|            14|             4|         83|            12|             4|         79|            11|             4|         89|             4|             3|           10|                3|            1|             2|                 1|    498|    117|      5|      7|    154|         18|             4|             7|        412|             4|             3|         11|             4|            11|        163|             6|             4|         75|             4|            12|            2|                0|            0|             0|                 0|     64|    157|     24|     29|    134|[1717.0,-1.0,1.0,...|  0.0|[19.9215691322078...|[0.99607845661039...|       0.0|\n",
      "|3215451229|1496944876317|        1828|       9|     1|         1|         1|             1|         0|         -1|             -1|         69|             4|             3|        412|             4|            14|        164|            12|             4|         22|             7|             4|         35|             4|            11|           10|                2|            0|             3|                 0|    122|    105|    157|     19|    154|         24|             4|            11|        245|            14|             4|         17|            14|             4|        497|             4|             3|         67|             4|             7|            1|                0|            0|             1|                 1|     51|     90|    223|    157|    122|[1828.0,1.0,1.0,1...|  0.0|[19.8096159082007...|[0.99048079541003...|       0.0|\n",
      "|3215465619|1496946494205|        2352|       9|     1|         1|         1|             1|         1|          1|              0|         62|            12|             4|         61|             4|            21|        202|             4|             7|         64|             4|            11|         63|             3|             4|           11|                3|            1|             4|                 0|    498|    105|     90|     19|    114|        134|             4|            12|         35|            11|            14|        117|             4|             3|         81|             7|             4|        150|             4|            12|            3|                0|            0|             0|                 0|    120|    154|    105|    114|     51|[2352.0,1.0,1.0,1...|  0.0|[19.7702462104880...|[0.98851231052440...|       0.0|\n",
      "|3215518658|1496949891145|        1586|       9|    -1|        -1|        -1|            -1|         0|         -1|             -1|        268|            12|             4|        222|             7|             4|        143|             4|             3|         92|             4|            12|         64|             4|            11|            2|                0|            0|             0|                 0|    122|    157|     53|    238|     86|        412|            14|             4|         17|            12|             4|        107|             4|            11|         51|             7|             4|        103|            14|             4|            9|                2|            0|             2|                 1|     19|     53|     67|     58|    157|[1586.0,-1.0,-1.0...|  1.0|[0.10630947608163...|[0.00531547380408...|       1.0|\n",
      "|3215584595|1496951420997|        1547|       9|     1|         1|         1|             1|         0|          1|              0|        134|             6|             4|        222|             7|             4|        104|             4|            11|         37|             3|             4|         75|            12|             4|           10|                2|            0|             3|                 0|    412|     51|     53|    105|    122|        498|             7|             4|         99|             4|             3|        121|             4|            11|        101|             6|             4|         98|             4|            12|            0|                0|            0|             0|                 0|    238|     11|    107|    114|    157|[1547.0,1.0,1.0,1...|  0.0|[19.9431317005647...|[0.99715658502823...|       0.0|\n",
      "|3215736135|1496960820989|        2134|       9|    -1|        -1|         1|            -1|        -1|         -1|              0|         14|             4|             3|         51|             4|             7|        245|            12|             4|        134|             4|             1|         35|            11|            14|            6|                0|            0|             1|                 0|     38|    105|    117|    427|    154|         21|             7|             4|          4|             3|             4|          2|            11|             6|        157|             4|            12|         63|            14|             4|            9|                2|            2|             3|                 0|    117|    427|    497|    104|     60|[2134.0,-1.0,1.0,...|  1.0|[0.18039070253302...|[0.00901953512665...|       1.0|\n",
      "|3215789792|1496968987483|        1326|       9|     1|         1|         1|             1|         1|          1|              1|         20|             4|            11|        126|            12|             4|          7|             4|            12|        119|             4|             7|         40|             4|             3|           11|                3|            1|             2|                 1|     51|     38|      3|    154|    157|        121|            11|             4|        412|             4|            14|         79|             4|            12|        238|             4|            14|         22|             7|             4|            0|                0|            0|             0|                 0|      8|     60|    154|    117|     28|[1326.0,1.0,1.0,1...|  0.0|[19.9530986274451...|[0.99765493137225...|       0.0|\n",
      "|3216079693|1497014907142|        1296|       9|     1|         1|         1|             0|         0|          1|              0|         19|             4|            11|        143|             4|             3|        131|             4|            14|        114|            12|             4|         81|             4|             7|            5|                0|            0|             2|                 0|    119|    238|     58|    157|    117|         33|            11|             4|          6|             3|             4|         21|             7|             4|         43|             3|             4|        122|            12|             4|            1|                0|            0|             0|                 0|    497|     90|    236|    157|    201|[1296.0,1.0,1.0,0...|  0.0|[19.3343797567411...|[0.96671898783705...|       0.0|\n",
      "|3216081181|1497012077724|        1601|       9|    -1|        -1|        -1|            -1|        -1|         -1|             -1|         83|             4|            12|         53|             4|             3|        498|             7|             4|         11|            11|             4|        115|             4|            21|            0|                0|            0|             0|                 0|     28|    143|     51|    157|      3|        236|             4|             7|        497|             4|             3|         99|             4|            21|        106|             6|            11|         23|             4|            14|           10|                2|            1|             3|                 1|     54|    133|    238|     51|    157|[1601.0,-1.0,-1.0...|  1.0|[0.07257336463461...|[0.00362866823173...|       1.0|\n",
      "|3216185785|1497016405731|        2011|       9|     1|        -1|        -1|            -1|        -1|         -1|             -1|        136|             3|             4|         22|             7|             4|        126|             4|            12|         35|            14|            11|        497|            14|             4|            6|                1|            1|             0|                 0|    105|    113|     64|    154|    117|        412|             4|             7|         20|             4|            11|         98|             4|            12|        238|             4|            14|         81|            14|             4|            8|                1|            1|             4|                 1|    154|    157|    117|    236|    113|[2011.0,-1.0,-1.0...|  0.0|[5.01293644970511...|[0.25064682248525...|       1.0|\n",
      "|3216215347|1497016824594|        1297|       9|    -1|         1|         1|             0|         0|          1|             -1|        203|            11|             4|        157|             4|            12|        497|             4|             3|         67|             4|             7|        112|             4|             6|            1|                0|            0|             1|                 0|    105|    117|    238|     64|      7|         92|            12|             4|         90|            14|             4|        106|             3|             4|        222|             7|             4|         23|             6|            11|            5|                0|            0|             1|                 1|     86|     64|    119|    412|    105|[1297.0,1.0,1.0,0...|  1.0|[4.23527661258108...|[0.21176383062905...|       1.0|\n",
      "|3216827006|1497034999267|        2788|       9|     1|         1|         1|             1|        -1|          1|              1|        497|             4|             3|        429|             4|             7|         29|             4|            11|         92|            12|             4|        157|             4|            14|           10|                4|            0|             3|                 1|     51|    103|     23|    254|     25|         64|            11|             4|        432|            14|             4|         54|            12|             4|        110|             7|             4|         42|             6|             4|            9|                1|            1|             1|                 0|     53|     63|    121|    122|     67|[2788.0,1.0,1.0,1...|  0.0|[7.97557385456676...|[0.39877869272833...|       1.0|\n",
      "|3216908489|1497038435147|        1550|       9|     1|         1|         1|             1|         0|          1|              0|         58|            12|             4|         59|             4|            11|         69|            21|             4|        412|             4|            14|         18|             7|             4|           10|                2|            0|             1|                 0|    114|     99|      8|    157|    119|         79|             4|            11|          7|             4|            14|         64|             4|            12|        117|             3|             4|         51|             7|             4|            0|                0|            0|             0|                 0|     57|     90|     45|    105|    122|[1550.0,1.0,1.0,1...|  0.0|[19.8390358212065...|[0.99195179106032...|       0.0|\n",
      "|3217004628|1497042452772|        1559|       9|    -1|         1|        -1|            -1|         0|         -1|              0|        203|            11|             4|         17|            14|             7|         58|             3|             7|         85|            12|             4|         83|             4|            12|            0|                0|            0|             0|                 0|     19|     55|     67|    126|    122|          5|             4|            11|         30|            14|             4|         25|             4|            14|         81|             4|             7|         14|             4|            12|           10|                1|            0|             2|                 0|    420|     74|     45|    117|     24|[1559.0,1.0,-1.0,...|  1.0|[0.36023051429448...|[0.01801152571472...|       1.0|\n",
      "|3217023748|1497042385961|         937|       9|    -1|        -1|        -1|             0|         0|         -1|             -1|        112|             6|             4|         10|            12|             4|         51|             4|             7|        497|            14|             4|         19|             4|            11|            0|                0|            0|             0|                 0|     64|    157|      3|     67|    121|        421|             4|            11|         92|            12|             4|         44|             3|             4|         29|             7|             4|         96|             7|             4|            4|                0|            0|             1|                 1|    154|    105|    238|    119|    498|[937.0,-1.0,-1.0,...|  1.0|[0.53139210890551...|[0.02656960544527...|       1.0|\n",
      "|3217410624|1497090313385|        1920|       9|     1|         1|         1|             1|         1|          1|             -1|         22|             4|             7|          3|            12|             4|         19|            11|             4|        103|             4|            14|         25|             4|             3|            7|                1|            1|             2|                 0|    154|    238|    122|    157|     55|         45|             4|            12|         86|             4|            14|        421|            11|             4|        267|             4|             3|        202|             4|             7|            1|                0|            0|             0|                 1|     11|    131|    238|    122|    117|[1920.0,1.0,1.0,1...|  0.0|[19.8253834301494...|[0.99126917150747...|       0.0|\n",
      "|3217565993|1497102347669|        3241|       9|     1|         1|        -1|             1|         1|          1|              0|         17|            14|             4|          5|             4|            11|         53|            14|             4|        119|             4|             7|        134|             4|            21|            9|                2|            1|             3|                 0|     40|    201|     25|    157|    238|        497|             4|            14|        498|             4|             7|         45|            21|             4|        245|            12|             4|         77|            11|             6|            6|                1|            2|             3|                 0|    236|    201|      7|     63|    122|[3241.0,1.0,-1.0,...|  0.0|[14.6200299069847...|[0.73100149534923...|       0.0|\n",
      "|3217623985|1497104599485|         871|       9|    -1|         1|        -1|            -1|         0|         -1|             -1|        245|            12|             4|         32|            11|             4|         37|             4|            14|        134|            14|             4|        119|             4|             7|            0|                0|            0|             0|                 0|    154|    117|     40|     51|    157|        103|             4|            14|         64|            11|             4|         29|             7|             4|         59|             4|            12|        267|             3|             4|            9|                1|            0|             1|                 1|    154|    105|    114|     92|    238|[871.0,1.0,-1.0,-...|  1.0|[0.08484037499021...|[0.00424201874951...|       1.0|\n",
      "+----------+-------------+------------+--------+------+----------+----------+--------------+----------+-----------+---------------+-----------+--------------+--------------+-----------+--------------+--------------+-----------+--------------+--------------+-----------+--------------+--------------+-----------+--------------+--------------+-------------+-----------------+-------------+--------------+------------------+-------+-------+-------+-------+-------+-----------+--------------+--------------+-----------+--------------+--------------+-----------+--------------+--------------+-----------+--------------+--------------+-----------+--------------+--------------+-------------+-----------------+-------------+--------------+------------------+-------+-------+-------+-------+-------+--------------------+-----+--------------------+--------------------+----------+\n",
      "only showing top 20 rows\n",
      "\n"
     ]
    }
   ],
   "source": [
    "assembler = VectorAssembler(\n",
    "    inputCols=columns,\n",
    "    outputCol=\"features\"\n",
    ")\n",
    "\n",
    "indexer = StringIndexer(\n",
    "    inputCol=\"winner\",\n",
    "    outputCol=\"label\"\n",
    ")\n",
    "\n",
    "randomForestClassifier = RandomForestClassifier(\n",
    "    impurity=\"gini\",\n",
    "    maxDepth=3,\n",
    "    numTrees=20,\n",
    "    featureSubsetStrategy=\"auto\"\n",
    ")\n",
    "\n",
    "stages = (assembler, indexer, randomForestClassifier)\n",
    "\n",
    "pipeline = Pipeline(stages=stages)\n",
    "\n",
    "evaluator = BinaryClassificationEvaluator(\n",
    "    labelCol=\"label\",\n",
    "    metricName=\"areaUnderROC\"\n",
    ")\n",
    "\n",
    "paramGrid = ParamGridBuilder().addGrid(\n",
    "    randomForestClassifier.maxBins, [25, 28, 31]\n",
    ").addGrid(\n",
    "    randomForestClassifier.maxDepth, [4, 6, 8]\n",
    ").addGrid(\n",
    "    randomForestClassifier.impurity, [\"entropy\", \"gini\"]\n",
    ").build()\n",
    "\n",
    "cv = CrossValidator(\n",
    "    estimator=pipeline,\n",
    "    evaluator=evaluator,\n",
    "    estimatorParamMaps=paramGrid,\n",
    "    numFolds=5\n",
    ")\n",
    "\n",
    "cvModel = cv.fit(dataTrain)\n",
    "\n",
    "cvPredictionDf = cvModel.transform(dataTest)\n",
    "cvPredictionDf.show()"
   ]
  },
  {
   "cell_type": "markdown",
   "metadata": {
    "jupyter": {
     "outputs_hidden": false
    },
    "pycharm": {
     "name": "#%%\n"
    },
    "scrolled": true
   },
   "source": [
    "### Avaliando modelo"
   ]
  },
  {
   "cell_type": "code",
   "execution_count": 23,
   "metadata": {
    "jupyter": {
     "outputs_hidden": false
    },
    "pycharm": {
     "name": "#%%\n"
    },
    "scrolled": false
   },
   "outputs": [
    {
     "data": {
      "text/plain": [
       "0.9961946098362215"
      ]
     },
     "execution_count": 23,
     "metadata": {},
     "output_type": "execute_result"
    }
   ],
   "source": [
    "accPos = evaluator.evaluate(cvPredictionDf)\n",
    "accPos"
   ]
  },
  {
   "cell_type": "code",
   "execution_count": 24,
   "metadata": {
    "jupyter": {
     "outputs_hidden": false
    },
    "pycharm": {
     "name": "#%%\n"
    },
    "scrolled": false
   },
   "outputs": [],
   "source": [
    "# salvar o modelo no diretorio\n",
    "# cvModel.write().overwrite().save(\"data/model/lol\")\n",
    "# carregar o modelo do diretorio\n",
    "# cvModelLoaded = CrossValidatorModel.load(\"data/model/lol\")"
   ]
  },
  {
   "cell_type": "markdown",
   "metadata": {
    "jupyter": {
     "outputs_hidden": false
    },
    "pycharm": {
     "name": "#%%\n"
    },
    "scrolled": true
   },
   "source": [
    "### Cálculo utilizando os dados da seleção de campeões, para tentar prever o vencedor após a preparação e antes da partida"
   ]
  },
  {
   "cell_type": "code",
   "execution_count": 28,
   "metadata": {
    "jupyter": {
     "outputs_hidden": false
    },
    "pycharm": {
     "name": "#%%\n"
    },
    "scrolled": false
   },
   "outputs": [
    {
     "name": "stdout",
     "output_type": "stream",
     "text": [
      "+----------+-------------+------------+--------+------+----------+----------+--------------+----------+-----------+---------------+-----------+--------------+--------------+-----------+--------------+--------------+-----------+--------------+--------------+-----------+--------------+--------------+-----------+--------------+--------------+-------------+-----------------+-------------+--------------+------------------+-------+-------+-------+-------+-------+-----------+--------------+--------------+-----------+--------------+--------------+-----------+--------------+--------------+-----------+--------------+--------------+-----------+--------------+--------------+-------------+-----------------+-------------+--------------+------------------+-------+-------+-------+-------+-------+--------------------+-----+--------------------+--------------------+----------+\n",
      "|    gameId| creationTime|gameDuration|seasonId|winner|firstBlood|firstTower|firstInhibitor|firstBaron|firstDragon|firstRiftHerald|t1_champ1id|t1_champ1_sum1|t1_champ1_sum2|t1_champ2id|t1_champ2_sum1|t1_champ2_sum2|t1_champ3id|t1_champ3_sum1|t1_champ3_sum2|t1_champ4id|t1_champ4_sum1|t1_champ4_sum2|t1_champ5id|t1_champ5_sum1|t1_champ5_sum2|t1_towerKills|t1_inhibitorKills|t1_baronKills|t1_dragonKills|t1_riftHeraldKills|t1_ban1|t1_ban2|t1_ban3|t1_ban4|t1_ban5|t2_champ1id|t2_champ1_sum1|t2_champ1_sum2|t2_champ2id|t2_champ2_sum1|t2_champ2_sum2|t2_champ3id|t2_champ3_sum1|t2_champ3_sum2|t2_champ4id|t2_champ4_sum1|t2_champ4_sum2|t2_champ5id|t2_champ5_sum1|t2_champ5_sum2|t2_towerKills|t2_inhibitorKills|t2_baronKills|t2_dragonKills|t2_riftHeraldKills|t2_ban1|t2_ban2|t2_ban3|t2_ban4|t2_ban5|            features|label|       rawPrediction|         probability|prediction|\n",
      "+----------+-------------+------------+--------+------+----------+----------+--------------+----------+-----------+---------------+-----------+--------------+--------------+-----------+--------------+--------------+-----------+--------------+--------------+-----------+--------------+--------------+-----------+--------------+--------------+-------------+-----------------+-------------+--------------+------------------+-------+-------+-------+-------+-------+-----------+--------------+--------------+-----------+--------------+--------------+-----------+--------------+--------------+-----------+--------------+--------------+-----------+--------------+--------------+-------------+-----------------+-------------+--------------+------------------+-------+-------+-------+-------+-------+--------------------+-----+--------------------+--------------------+----------+\n",
      "|3215007763|1496915581238|        1382|       9|    -1|         1|        -1|            -1|         0|         -1|             -1|        154|             4|            11|        497|            14|             4|        202|             7|             4|        157|            12|             4|         25|             4|            12|            0|                0|            0|             0|                 0|    119|      7|    236|    222|     23|        143|             4|             3|          3|             4|            12|         99|             4|             3|         21|             7|             4|         11|             6|            11|            6|                1|            0|             3|                 1|     58|     29|    119|    268|    114|[154.0,4.0,11.0,4...|  1.0|[10.0402009130791...|[0.50201004565395...|       0.0|\n",
      "|3215251253|1496933384820|         197|       9|    -1|         0|         0|             0|         0|          0|              0|         51|             7|             4|         86|             4|            12|        143|             4|            14|        238|             4|            14|        203|            11|             4|            0|                0|            0|             0|                 0|    122|    105|     11|    114|    120|         63|            14|             4|         84|             4|             3|        201|             4|             3|        119|             4|             7|        121|            11|             4|            0|                0|            0|             0|                 0|     55|     80|     53|    157|    105|[51.0,7.0,4.0,86....|  1.0|[10.0627083524596...|[0.50313541762298...|       0.0|\n",
      "|3215303507|1496937119679|        1717|       9|     1|        -1|         1|             1|         1|          1|              1|         67|             7|             4|         17|            14|             4|         83|            12|             4|         79|            11|             4|         89|             4|             3|           10|                3|            1|             2|                 1|    498|    117|      5|      7|    154|         18|             4|             7|        412|             4|             3|         11|             4|            11|        163|             6|             4|         75|             4|            12|            2|                0|            0|             0|                 0|     64|    157|     24|     29|    134|[67.0,7.0,4.0,17....|  0.0|[10.2061745041645...|[0.51030872520822...|       0.0|\n",
      "|3215451229|1496944876317|        1828|       9|     1|         1|         1|             1|         0|         -1|             -1|         69|             4|             3|        412|             4|            14|        164|            12|             4|         22|             7|             4|         35|             4|            11|           10|                2|            0|             3|                 0|    122|    105|    157|     19|    154|         24|             4|            11|        245|            14|             4|         17|            14|             4|        497|             4|             3|         67|             4|             7|            1|                0|            0|             1|                 1|     51|     90|    223|    157|    122|[69.0,4.0,3.0,412...|  0.0|[10.3649284901784...|[0.51824642450892...|       0.0|\n",
      "|3215465619|1496946494205|        2352|       9|     1|         1|         1|             1|         1|          1|              0|         62|            12|             4|         61|             4|            21|        202|             4|             7|         64|             4|            11|         63|             3|             4|           11|                3|            1|             4|                 0|    498|    105|     90|     19|    114|        134|             4|            12|         35|            11|            14|        117|             4|             3|         81|             7|             4|        150|             4|            12|            3|                0|            0|             0|                 0|    120|    154|    105|    114|     51|[62.0,12.0,4.0,61...|  0.0|[10.2394298721854...|[0.51197149360927...|       0.0|\n",
      "|3215518658|1496949891145|        1586|       9|    -1|        -1|        -1|            -1|         0|         -1|             -1|        268|            12|             4|        222|             7|             4|        143|             4|             3|         92|             4|            12|         64|             4|            11|            2|                0|            0|             0|                 0|    122|    157|     53|    238|     86|        412|            14|             4|         17|            12|             4|        107|             4|            11|         51|             7|             4|        103|            14|             4|            9|                2|            0|             2|                 1|     19|     53|     67|     58|    157|[268.0,12.0,4.0,2...|  1.0|[10.2828668387340...|[0.51414334193670...|       0.0|\n",
      "|3215584595|1496951420997|        1547|       9|     1|         1|         1|             1|         0|          1|              0|        134|             6|             4|        222|             7|             4|        104|             4|            11|         37|             3|             4|         75|            12|             4|           10|                2|            0|             3|                 0|    412|     51|     53|    105|    122|        498|             7|             4|         99|             4|             3|        121|             4|            11|        101|             6|             4|         98|             4|            12|            0|                0|            0|             0|                 0|    238|     11|    107|    114|    157|[134.0,6.0,4.0,22...|  0.0|[10.1897022749727...|[0.50948511374863...|       0.0|\n",
      "|3215736135|1496960820989|        2134|       9|    -1|        -1|         1|            -1|        -1|         -1|              0|         14|             4|             3|         51|             4|             7|        245|            12|             4|        134|             4|             1|         35|            11|            14|            6|                0|            0|             1|                 0|     38|    105|    117|    427|    154|         21|             7|             4|          4|             3|             4|          2|            11|             6|        157|             4|            12|         63|            14|             4|            9|                2|            2|             3|                 0|    117|    427|    497|    104|     60|[14.0,4.0,3.0,51....|  1.0|[10.0619628868215...|[0.50309814434107...|       0.0|\n",
      "|3215789792|1496968987483|        1326|       9|     1|         1|         1|             1|         1|          1|              1|         20|             4|            11|        126|            12|             4|          7|             4|            12|        119|             4|             7|         40|             4|             3|           11|                3|            1|             2|                 1|     51|     38|      3|    154|    157|        121|            11|             4|        412|             4|            14|         79|             4|            12|        238|             4|            14|         22|             7|             4|            0|                0|            0|             0|                 0|      8|     60|    154|    117|     28|[20.0,4.0,11.0,12...|  0.0|[10.4185240947057...|[0.52092620473528...|       0.0|\n",
      "|3216079693|1497014907142|        1296|       9|     1|         1|         1|             0|         0|          1|              0|         19|             4|            11|        143|             4|             3|        131|             4|            14|        114|            12|             4|         81|             4|             7|            5|                0|            0|             2|                 0|    119|    238|     58|    157|    117|         33|            11|             4|          6|             3|             4|         21|             7|             4|         43|             3|             4|        122|            12|             4|            1|                0|            0|             0|                 0|    497|     90|    236|    157|    201|[19.0,4.0,11.0,14...|  0.0|[10.2834100101138...|[0.51417050050569...|       0.0|\n",
      "|3216081181|1497012077724|        1601|       9|    -1|        -1|        -1|            -1|        -1|         -1|             -1|         83|             4|            12|         53|             4|             3|        498|             7|             4|         11|            11|             4|        115|             4|            21|            0|                0|            0|             0|                 0|     28|    143|     51|    157|      3|        236|             4|             7|        497|             4|             3|         99|             4|            21|        106|             6|            11|         23|             4|            14|           10|                2|            1|             3|                 1|     54|    133|    238|     51|    157|[83.0,4.0,12.0,53...|  1.0|[10.0457325670380...|[0.50228662835190...|       0.0|\n",
      "|3216185785|1497016405731|        2011|       9|     1|        -1|        -1|            -1|        -1|         -1|             -1|        136|             3|             4|         22|             7|             4|        126|             4|            12|         35|            14|            11|        497|            14|             4|            6|                1|            1|             0|                 0|    105|    113|     64|    154|    117|        412|             4|             7|         20|             4|            11|         98|             4|            12|        238|             4|            14|         81|            14|             4|            8|                1|            1|             4|                 1|    154|    157|    117|    236|    113|[136.0,3.0,4.0,22...|  0.0|[9.88863506994147...|[0.49443175349707...|       1.0|\n",
      "|3216215347|1497016824594|        1297|       9|    -1|         1|         1|             0|         0|          1|             -1|        203|            11|             4|        157|             4|            12|        497|             4|             3|         67|             4|             7|        112|             4|             6|            1|                0|            0|             1|                 0|    105|    117|    238|     64|      7|         92|            12|             4|         90|            14|             4|        106|             3|             4|        222|             7|             4|         23|             6|            11|            5|                0|            0|             1|                 1|     86|     64|    119|    412|    105|[203.0,11.0,4.0,1...|  1.0|[10.1035580029700...|[0.50517790014850...|       0.0|\n",
      "|3216827006|1497034999267|        2788|       9|     1|         1|         1|             1|        -1|          1|              1|        497|             4|             3|        429|             4|             7|         29|             4|            11|         92|            12|             4|        157|             4|            14|           10|                4|            0|             3|                 1|     51|    103|     23|    254|     25|         64|            11|             4|        432|            14|             4|         54|            12|             4|        110|             7|             4|         42|             6|             4|            9|                1|            1|             1|                 0|     53|     63|    121|    122|     67|[497.0,4.0,3.0,42...|  0.0|[9.91396120632997...|[0.49569806031649...|       1.0|\n",
      "|3216908489|1497038435147|        1550|       9|     1|         1|         1|             1|         0|          1|              0|         58|            12|             4|         59|             4|            11|         69|            21|             4|        412|             4|            14|         18|             7|             4|           10|                2|            0|             1|                 0|    114|     99|      8|    157|    119|         79|             4|            11|          7|             4|            14|         64|             4|            12|        117|             3|             4|         51|             7|             4|            0|                0|            0|             0|                 0|     57|     90|     45|    105|    122|[58.0,12.0,4.0,59...|  0.0|[10.0727675206952...|[0.50363837603476...|       0.0|\n",
      "|3217004628|1497042452772|        1559|       9|    -1|         1|        -1|            -1|         0|         -1|              0|        203|            11|             4|         17|            14|             7|         58|             3|             7|         85|            12|             4|         83|             4|            12|            0|                0|            0|             0|                 0|     19|     55|     67|    126|    122|          5|             4|            11|         30|            14|             4|         25|             4|            14|         81|             4|             7|         14|             4|            12|           10|                1|            0|             2|                 0|    420|     74|     45|    117|     24|[203.0,11.0,4.0,1...|  1.0|[9.89130962808334...|[0.49456548140416...|       1.0|\n",
      "|3217023748|1497042385961|         937|       9|    -1|        -1|        -1|             0|         0|         -1|             -1|        112|             6|             4|         10|            12|             4|         51|             4|             7|        497|            14|             4|         19|             4|            11|            0|                0|            0|             0|                 0|     64|    157|      3|     67|    121|        421|             4|            11|         92|            12|             4|         44|             3|             4|         29|             7|             4|         96|             7|             4|            4|                0|            0|             1|                 1|    154|    105|    238|    119|    498|[112.0,6.0,4.0,10...|  1.0|[10.2397558179165...|[0.51198779089582...|       0.0|\n",
      "|3217410624|1497090313385|        1920|       9|     1|         1|         1|             1|         1|          1|             -1|         22|             4|             7|          3|            12|             4|         19|            11|             4|        103|             4|            14|         25|             4|             3|            7|                1|            1|             2|                 0|    154|    238|    122|    157|     55|         45|             4|            12|         86|             4|            14|        421|            11|             4|        267|             4|             3|        202|             4|             7|            1|                0|            0|             0|                 1|     11|    131|    238|    122|    117|[22.0,4.0,7.0,3.0...|  0.0|[10.4519791353722...|[0.52259895676861...|       0.0|\n",
      "|3217565993|1497102347669|        3241|       9|     1|         1|        -1|             1|         1|          1|              0|         17|            14|             4|          5|             4|            11|         53|            14|             4|        119|             4|             7|        134|             4|            21|            9|                2|            1|             3|                 0|     40|    201|     25|    157|    238|        497|             4|            14|        498|             4|             7|         45|            21|             4|        245|            12|             4|         77|            11|             6|            6|                1|            2|             3|                 0|    236|    201|      7|     63|    122|[17.0,14.0,4.0,5....|  0.0|[10.3598030380620...|[0.51799015190310...|       0.0|\n",
      "|3217623985|1497104599485|         871|       9|    -1|         1|        -1|            -1|         0|         -1|             -1|        245|            12|             4|         32|            11|             4|         37|             4|            14|        134|            14|             4|        119|             4|             7|            0|                0|            0|             0|                 0|    154|    117|     40|     51|    157|        103|             4|            14|         64|            11|             4|         29|             7|             4|         59|             4|            12|        267|             3|             4|            9|                1|            0|             1|                 1|    154|    105|    114|     92|    238|[245.0,12.0,4.0,3...|  1.0|[10.2349150061404...|[0.51174575030702...|       0.0|\n",
      "+----------+-------------+------------+--------+------+----------+----------+--------------+----------+-----------+---------------+-----------+--------------+--------------+-----------+--------------+--------------+-----------+--------------+--------------+-----------+--------------+--------------+-----------+--------------+--------------+-------------+-----------------+-------------+--------------+------------------+-------+-------+-------+-------+-------+-----------+--------------+--------------+-----------+--------------+--------------+-----------+--------------+--------------+-----------+--------------+--------------+-----------+--------------+--------------+-------------+-----------------+-------------+--------------+------------------+-------+-------+-------+-------+-------+--------------------+-----+--------------------+--------------------+----------+\n",
      "only showing top 20 rows\n",
      "\n"
     ]
    }
   ],
   "source": [
    "columnsPre = list(filter(lambda x: x not in [\"gameId\", \n",
    "                                             \"creationTime\",\n",
    "                                             \"seasonId\",\n",
    "                                             \"winner\",\n",
    "                                             \"gameDuration\",\n",
    "                                             \"firstBlood\",\n",
    "                                             \"firstTower\",\n",
    "                                             \"firstInhibitor\",\n",
    "                                             \"firstBaron\",\n",
    "                                             \"firstDragon\",\n",
    "                                             \"firstRiftHerald\",\n",
    "                                             \"t1_towerKills\",\n",
    "                                             \"t1_inhibitorKills\",\n",
    "                                             \"t1_baronKills\",\n",
    "                                             \"t1_dragonKills\",\n",
    "                                             \"t1_riftHeraldKills\",\n",
    "                                             \"t2_towerKills\",\n",
    "                                             \"t2_inhibitorKills\",\n",
    "                                             \"t2_baronKills\",\n",
    "                                             \"t2_dragonKills\",\n",
    "                                             \"t2_riftHeraldKills\"],table.columns))\n",
    "\n",
    "assemblerPre = VectorAssembler(\n",
    "    inputCols=columnsPre,\n",
    "    outputCol=\"features\"\n",
    ")\n",
    "\n",
    "indexerPre = StringIndexer(\n",
    "    inputCol=\"winner\",\n",
    "    outputCol=\"label\"\n",
    ")\n",
    "\n",
    "randomForestClassifierPre = RandomForestClassifier(\n",
    "    impurity=\"gini\",\n",
    "    maxDepth=3,\n",
    "    numTrees=20,\n",
    "    featureSubsetStrategy=\"auto\"\n",
    ")\n",
    "\n",
    "stagesPre = (assemblerPre, indexerPre, randomForestClassifierPre)\n",
    "\n",
    "pipelinePre = Pipeline(stages=stagesPre)\n",
    "\n",
    "evaluatorPre = BinaryClassificationEvaluator(\n",
    "    labelCol=\"label\",\n",
    "    metricName=\"areaUnderROC\"\n",
    ")\n",
    "\n",
    "paramGridPre = ParamGridBuilder().addGrid(\n",
    "    randomForestClassifierPre.maxBins, [25, 28, 31]\n",
    ").addGrid(\n",
    "    randomForestClassifierPre.maxDepth, [4, 6, 8]\n",
    ").addGrid(\n",
    "    randomForestClassifierPre.impurity, [\"entropy\", \"gini\"]\n",
    ").build()\n",
    "\n",
    "cvPre = CrossValidator(\n",
    "    estimator=pipelinePre,\n",
    "    evaluator=evaluatorPre,\n",
    "    estimatorParamMaps=paramGridPre,\n",
    "    numFolds=5\n",
    ")\n",
    "\n",
    "cvModelPre = cvPre.fit(dataTrain)\n",
    "\n",
    "cvPredictionDfPre = cvModelPre.transform(dataTest)\n",
    "cvPredictionDfPre.show()"
   ]
  },
  {
   "cell_type": "markdown",
   "metadata": {},
   "source": [
    "### Avaliando o modelo pré-partida"
   ]
  },
  {
   "cell_type": "code",
   "execution_count": 29,
   "metadata": {},
   "outputs": [
    {
     "data": {
      "text/plain": [
       "0.5326703065227942"
      ]
     },
     "execution_count": 29,
     "metadata": {},
     "output_type": "execute_result"
    }
   ],
   "source": [
    "accPre = evaluatorPre.evaluate(cvPredictionDfPre)\n",
    "accPre"
   ]
  },
  {
   "cell_type": "markdown",
   "metadata": {},
   "source": [
    "### Comparando a acurácia dos modelos"
   ]
  },
  {
   "cell_type": "code",
   "execution_count": 30,
   "metadata": {},
   "outputs": [
    {
     "data": {
      "text/plain": [
       "0.4635243033134273"
      ]
     },
     "execution_count": 30,
     "metadata": {},
     "output_type": "execute_result"
    }
   ],
   "source": [
    "accPos - accPre"
   ]
  },
  {
   "cell_type": "markdown",
   "metadata": {},
   "source": [
    "### Conclusões\n",
    "\n",
    "O modelo pré-partida conseguiu pouco mais de 50% de acurácia nas previsões, pouco melhor que um palpite baseado em pura sorte. \n",
    "\n",
    "O modelo pós-partida, que conseguiu mais de 99% de acurácia, porém é pouco útil tentar prever o resultado de uma partida que já acabou.\n",
    "\n",
    "Uma sugestão de análise para o futuro é simular partidas em andamento e verificar a eficácia do modelo de pós partida aplicados a partidas em andamento. Para isso, seria necessário ter uma dimensão temporal em cada partida para ver a evolução da predição ao longo da partida, porém estes dados não são facilmente encontrados."
   ]
  },
  {
   "cell_type": "code",
   "execution_count": null,
   "metadata": {},
   "outputs": [],
   "source": []
  }
 ],
 "metadata": {
  "kernelspec": {
   "display_name": "Python 3 (ipykernel)",
   "language": "python",
   "name": "python3"
  },
  "language_info": {
   "codemirror_mode": {
    "name": "ipython",
    "version": 3
   },
   "file_extension": ".py",
   "mimetype": "text/x-python",
   "name": "python",
   "nbconvert_exporter": "python",
   "pygments_lexer": "ipython3",
   "version": "3.9.7"
  }
 },
 "nbformat": 4,
 "nbformat_minor": 4
}
